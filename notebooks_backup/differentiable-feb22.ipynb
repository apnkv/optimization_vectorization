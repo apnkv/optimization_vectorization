{
 "cells": [
  {
   "cell_type": "code",
   "execution_count": null,
   "metadata": {
    "collapsed": true
   },
   "outputs": [],
   "source": [
    "%config InlineBackend.figure_format='retina'\n",
    "%matplotlib inline\n",
    "%reload_ext autoreload\n",
    "%autoreload 2"
   ]
  },
  {
   "cell_type": "code",
   "execution_count": null,
   "outputs": [],
   "source": [
    "import numpy as np\n",
    "import torch\n",
    "\n",
    "from matplotlib import pyplot as plt\n",
    "from geomloss import SamplesLoss\n",
    "from tqdm import tqdm\n",
    "\n",
    "from utils import Synthetic\n",
    "from differentiable_rendering.sigmoids_renderer.renderer import Renderer"
   ],
   "metadata": {
    "collapsed": false,
    "pycharm": {
     "name": "#%%\n"
    }
   }
  },
  {
   "cell_type": "code",
   "execution_count": null,
   "outputs": [],
   "source": [
    "def compute_pixel_coords(image):\n",
    "    return np.argwhere(image)\n",
    "\n",
    "\n",
    "def compute_pixel_density(image):\n",
    "    pixel_density = image[np.nonzero(image)]\n",
    "    pixel_density /= np.sum(pixel_density)\n",
    "    return pixel_density\n",
    "\n",
    "\n",
    "def shift_lines(lines, dx=0, dy=0):\n",
    "    new_masses = []\n",
    "    \n",
    "    for mass in lines:\n",
    "        mass = list(mass)\n",
    "        \n",
    "        mass[0] += dx\n",
    "        mass[2] += dx\n",
    "        \n",
    "        mass[1] += dy\n",
    "        mass[3] += dy\n",
    "        \n",
    "        new_masses.append(tuple(mass))\n",
    "            \n",
    "    return new_masses"
   ],
   "metadata": {
    "collapsed": false,
    "pycharm": {
     "name": "#%%\n"
    }
   }
  },
  {
   "cell_type": "code",
   "execution_count": null,
   "outputs": [],
   "source": [
    "def visualize(renderer, image, line_batch, render_label):\n",
    "    render = renderer.render(line_batch)[0].detach().cpu().numpy()\n",
    "    x, y = np.nonzero(render)\n",
    "    plt.figure(figsize=(5, 5))\n",
    "    plt.imshow(image, cmap='gist_gray')\n",
    "    plt.scatter(x, y, cmap='gist_gray', label=render_label, alpha=0.5)\n",
    "    plt.legend()\n",
    "    plt.show()\n",
    "    "
   ],
   "metadata": {
    "collapsed": false,
    "pycharm": {
     "name": "#%%\n"
    }
   }
  },
  {
   "cell_type": "code",
   "execution_count": null,
   "outputs": [],
   "source": [
    "device = \"cuda:0\""
   ],
   "metadata": {
    "collapsed": false,
    "pycharm": {
     "name": "#%%\n"
    }
   }
  },
  {
   "cell_type": "code",
   "execution_count": null,
   "outputs": [],
   "source": [
    "DEFAULT_LOSS = SamplesLoss(\"sinkhorn\", p=2, blur=.01)\n",
    "DEFAULT_RENDERER = Renderer((64, 64), linecaps='butt', device=device, dtype=torch.float32)\n",
    "\n",
    "def optimize_line_batch(line_batch, raster_coords, raster_masses, n_iters=50,\n",
    "                        optimize_width=True, lr=0.2, loss=DEFAULT_LOSS, coord_only_steps=None,\n",
    "                        renderer=DEFAULT_RENDERER, tqdm_=False, graph=False, length_loss=0., width_loss=0.):\n",
    "    \n",
    "    vector_coords = torch.from_numpy(np.mgrid[0:64, 0:64].reshape(2, -1).T.astype(np.float32)).to(device)\n",
    "    \n",
    "    iter_range = range(n_iters)\n",
    "    if tqdm_:\n",
    "        iter_range = tqdm(iter_range)\n",
    "        \n",
    "    line_batch.requires_grad_()\n",
    "    \n",
    "    initial_length = torch.sqrt((line_batch[:, :, 0] - line_batch[:, :, 2]) ** 2 \n",
    "                                     + (line_batch[:, :, 1] - line_batch[:, :, 3]) ** 2).detach()\n",
    "    \n",
    "    initial_width = line_batch[:, :, 4].detach()\n",
    "        \n",
    "    for step in iter_range:\n",
    "    \n",
    "        vector_masses = renderer.render(line_batch)[0]\n",
    "        vector_masses = (vector_masses / vector_masses.sum()).flatten()\n",
    "        \n",
    "        if line_batch.grad is not None:\n",
    "            line_batch.grad.data.zero_()\n",
    "    \n",
    "        sample_loss = loss(vector_masses, vector_coords, raster_masses, raster_coords)\n",
    "        if length_loss > 0.:\n",
    "            sample_loss += length_loss * torch.mean(initial_length - torch.sqrt((line_batch[:, :, 0] - line_batch[:, :, 2]) ** 2 \n",
    "                                                    + (line_batch[:, :, 1] - line_batch[:, :, 3]) ** 2))\n",
    "            \n",
    "        if width_loss > 0.:\n",
    "            sample_loss += width_loss * torch.mean((line_batch[:, :, 4] - initial_width) ** 2)\n",
    "            \n",
    "        sample_loss.backward()\n",
    "        \n",
    "        g_line_batch = line_batch.grad.data\n",
    "        # g_line_batch[:, :, 5] = 0.\n",
    "        if not optimize_width:\n",
    "            g_line_batch[:, :, 4] = 0.\n",
    "            \n",
    "        g_line_batch[:, :, 5] = 0.\n",
    "        \n",
    "        if coord_only_steps is not None and step < coord_only_steps:\n",
    "            g_line_batch[:, :, 4] = 0.\n",
    "            g_line_batch[:, :, 5] = 0.\n",
    "            \n",
    "        line_batch.data -= lr * g_line_batch\n",
    "        \n",
    "        if graph:\n",
    "            plt.close()\n",
    "            visualize(DEFAULT_RENDERER, image.T, line_batch, 'Optimized vector guess')\n",
    "        \n",
    "    return line_batch\n",
    "\n",
    "\n",
    "def get_pixel_coords_and_density(image):\n",
    "    pixel_coords = compute_pixel_coords(image)\n",
    "    pixel_density = compute_pixel_density(image)\n",
    "    \n",
    "    torch_pixel_coords = torch.from_numpy(pixel_coords.astype(np.float32)).to(device)\n",
    "    torch_pixel_density = torch.from_numpy(pixel_density.astype(np.float32)).to(device)\n",
    "    \n",
    "    return torch_pixel_coords, torch_pixel_density"
   ],
   "metadata": {
    "collapsed": false,
    "pycharm": {
     "name": "#%%\n"
    }
   }
  }
 ],
 "metadata": {
  "kernelspec": {
   "display_name": "Python 3",
   "language": "python",
   "name": "python3"
  },
  "language_info": {
   "codemirror_mode": {
    "name": "ipython",
    "version": 2
   },
   "file_extension": ".py",
   "mimetype": "text/x-python",
   "name": "python",
   "nbconvert_exporter": "python",
   "pygments_lexer": "ipython2",
   "version": "2.7.6"
  },
  "pycharm": {
   "stem_cell": {
    "cell_type": "raw",
    "source": [],
    "metadata": {
     "collapsed": false
    }
   }
  }
 },
 "nbformat": 4,
 "nbformat_minor": 0
}