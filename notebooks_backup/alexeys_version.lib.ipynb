{
 "cells": [
  {
   "cell_type": "code",
   "execution_count": 1,
   "metadata": {},
   "outputs": [
    {
     "data": {
      "application/javascript": [
       "Jupyter.keyboard_manager.command_shortcuts.add_shortcut('=,=', 'jupyter-notebook:restart-kernel-and-run-all-cells');\n",
       "Jupyter.keyboard_manager.command_shortcuts.add_shortcut('F2,F2', 'jupyter-notebook:restart-kernel');\n",
       "Jupyter.keyboard_manager.command_shortcuts.add_shortcut('F1,F1', 'jupyter-notebook:run-all-cells-above');\n"
      ],
      "text/plain": [
       "<IPython.core.display.Javascript object>"
      ]
     },
     "metadata": {},
     "output_type": "display_data"
    }
   ],
   "source": [
    "%%javascript\n",
    "Jupyter.keyboard_manager.command_shortcuts.add_shortcut('=,=', 'jupyter-notebook:restart-kernel-and-run-all-cells');\n",
    "Jupyter.keyboard_manager.command_shortcuts.add_shortcut('F2,F2', 'jupyter-notebook:restart-kernel');\n",
    "Jupyter.keyboard_manager.command_shortcuts.add_shortcut('F1,F1', 'jupyter-notebook:run-all-cells-above');"
   ]
  },
  {
   "cell_type": "code",
   "execution_count": null,
   "metadata": {},
   "outputs": [],
   "source": [
    "import os\n",
    "import signal\n",
    "import sys\n",
    "\n",
    "from IPython.display import display, clear_output\n",
    "from PIL import Image\n",
    "import numpy as np\n",
    "from matplotlib import pyplot as plt\n",
    "import torch\n",
    "from tqdm import tqdm#tqdm_notebook as tqdm\n",
    "\n",
    "\n",
    "floorplan_vectorization_path = '/home/ovoinov/work/3ddl/vectorization/FloorplanVectorization'\n",
    "\n",
    "sys.path.append(floorplan_vectorization_path)\n",
    "from vectran.renderers.cairo import PT_LINE, PT_BEZIER\n",
    "from vectran.renderers.differentiable_rendering.sigmoids_renderer.renderer import Renderer\n",
    "\n",
    "\n",
    "os.environ['CUDA_DEVICE_ORDER'] = 'PCI_BUS_ID'\n",
    "os.environ['CUDA_VISIBLE_DEVICES'] = '3'"
   ]
  },
  {
   "cell_type": "markdown",
   "metadata": {},
   "source": [
    "#### Utils"
   ]
  },
  {
   "cell_type": "code",
   "execution_count": null,
   "metadata": {},
   "outputs": [],
   "source": [
    "sys.path.append(floorplan_vectorization_path)\n",
    "from vectran.renderers.cairo import render as original_render,\\\n",
    "                                    render_with_skeleton as original_render_with_skeleton\n",
    "\n",
    "\n",
    "linecaps = 'butt'  # be careful, synthetic data was rendered with linecaps='square',\n",
    "                   # but for efficiency purposes the differentiable renderer only supports 'butt',\n",
    "                   # ¯\\_(ツ)_/¯\n",
    "\n",
    "\n",
    "def render(data, dimensions, data_representation):\n",
    "    return original_render(data, dimensions, data_representation, linecaps=linecaps, linejoin='miter')\n",
    "\n",
    "\n",
    "def render_beziers_pt(beziers_batch):\n",
    "    beziers_batch = beziers_batch.detach().cpu().numpy()\n",
    "    rasters = np.stack([(1 - render({PT_BEZIER: beziers}, [w, h], data_representation='vahe').astype(np.float32)/255) for beziers in beziers_batch])\n",
    "    return rasters\n",
    "\n",
    "\n",
    "def render_beziers_skeleton(beziers_batch, scaling=4):\n",
    "    beziers_batch = beziers_batch.detach().cpu().numpy() * scaling\n",
    "    beziers_batch[..., -2] = 0\n",
    "    return np.stack([original_render_with_skeleton(\n",
    "        {PT_BEZIER: beziers}, [w*scaling, h*scaling], data_representation='vahe', linecaps=linecaps, linejoin='miter',\n",
    "        line_color=(0,0,0), line_width=2, node_size=4, control_line_width=1, control_node_size=2\n",
    "    ) for beziers in beziers_batch])"
   ]
  },
  {
   "cell_type": "markdown",
   "metadata": {},
   "source": [
    "#### Parameters and renderer"
   ]
  },
  {
   "cell_type": "code",
   "execution_count": null,
   "metadata": {},
   "outputs": [],
   "source": [
    "dtype = torch.float32\n",
    "device = torch.device('cuda')\n",
    "w, h = 64, 64\n",
    "\n",
    "renderer = Renderer([h, w], dtype=dtype, device=device)"
   ]
  },
  {
   "cell_type": "markdown",
   "metadata": {},
   "source": [
    "#### GT and intial"
   ]
  },
  {
   "cell_type": "code",
   "execution_count": null,
   "metadata": {},
   "outputs": [],
   "source": [
    "#beziers_gt = np.random.rand(4, 2, 9) * [w, h, w, h, w, h, w, h, 5]\n",
    "beziers_gt = np.random.rand(400, 10, 9) * [w, h, w, h, w, h, w, h, 5]\n",
    "beziers_gt[..., -1] += 1\n",
    "raster_np = np.asarray([render({PT_BEZIER: beziers}, [w, h], data_representation='vahe') for beziers in beziers_gt])\n",
    "rasters_batch = torch.from_numpy(1 - raster_np.astype(np.float32)/255).type(dtype).to(device)\n",
    "Image.fromarray(np.hstack(raster_np));"
   ]
  },
  {
   "cell_type": "code",
   "execution_count": null,
   "metadata": {},
   "outputs": [],
   "source": [
    "if False:  # random\n",
    "    initial_vector = np.random.rand(*beziers_gt.shape) * [w, h, w, h, w, h, w, h, 5]\n",
    "    initial_vector[..., -1] += 1\n",
    "elif False:  # perturbed\n",
    "    initial_vector = beziers_gt.copy() + np.random.randn(*beziers_gt.shape)*5\n",
    "    initial_vector[..., -1] = initial_vector[..., -1].clip(min=1)\n",
    "elif True:  # translated\n",
    "    initial_vector = beziers_gt.copy()\n",
    "    initial_vector[..., [0,2,4,6]] -= 5\n",
    "\n",
    "_ = np.asarray([render({PT_BEZIER: beziers}, [w, h], data_representation='vahe') for beziers in initial_vector])\n",
    "Image.fromarray(np.hstack(_));"
   ]
  },
  {
   "cell_type": "markdown",
   "metadata": {},
   "source": [
    "#### Initialize optimization"
   ]
  },
  {
   "cell_type": "code",
   "execution_count": null,
   "metadata": {},
   "outputs": [],
   "source": [
    "beziers_batch = torch.from_numpy(initial_vector).type(dtype).to(device)\n",
    "beziers_batch = torch.nn.functional.pad(beziers_batch, [0, 1], value=1)  # append confidence\n",
    "\n",
    "patches_to_optimize = np.full(beziers_batch.shape[0], True, np.bool)\n",
    "sigmoid_rat = 2.\n",
    "min_width = 1/8\n",
    "min_confidence = .1\n",
    "\n",
    "\n",
    "def make_optimizer(parameters_iter):\n",
    "    return torch.optim.Adam(parameters_iter, lr=1e0)\n",
    "loss_function = torch.nn.MSELoss()\n",
    "\n",
    "optimize_confidence = False\n",
    "optimize_width = True\n",
    "\n",
    "\n",
    "if optimize_confidence:\n",
    "    if optimize_width:\n",
    "        beziers_batch.requires_grad = True\n",
    "        optimizer = make_optimizer([beziers_batch])\n",
    "        \n",
    "        def make_beziers_batch_from_parameters():\n",
    "            return beziers_batch\n",
    "        def constrain_parameters():\n",
    "            beziers_batch.data[..., -2].clamp_(min=min_width)\n",
    "            beziers_batch.data[..., -1].clamp_(min=min_confidence)\n",
    "            beziers_batch.data[..., 0].clamp_(min=0, max=w)\n",
    "            beziers_batch.data[..., 6].clamp_(min=0, max=w)\n",
    "            beziers_batch.data[..., 1].clamp_(min=0, max=h)\n",
    "            beziers_batch.data[..., 7].clamp_(min=0, max=h)\n",
    "    else:\n",
    "        beziers_coordinates_and_confidence = beziers_batch[..., [0,1,2,3,4,5,6,7,9]].clone()\n",
    "        beziers_coordinates_and_confidence.requires_grad = True\n",
    "        optimizer = make_optimizer([beziers_coordinates_and_confidence])\n",
    "        \n",
    "        def make_beziers_batch_from_parameters():\n",
    "            return torch.cat([\n",
    "                beziers_coordinates_and_confidence[..., :8],\n",
    "                beziers_batch.data[..., -2:-1],\n",
    "                beziers_coordinates_and_confidence[..., -1:]\n",
    "            ], dim=-1)\n",
    "        def constrain_parameters():\n",
    "            beziers_coordinates_and_confidence.data[..., -1].clamp_(min=min_confidence)\n",
    "            beziers_coordinates_and_confidence.data[..., 0].clamp_(min=0, max=w)\n",
    "            beziers_coordinates_and_confidence.data[..., 6].clamp_(min=0, max=w)\n",
    "            beziers_coordinates_and_confidence.data[..., 1].clamp_(min=0, max=h)\n",
    "            beziers_coordinates_and_confidence.data[..., 7].clamp_(min=0, max=h)\n",
    "else:\n",
    "    if optimize_width:\n",
    "        beziers_coordinates_and_width = beziers_batch[..., :9].clone()\n",
    "        beziers_coordinates_and_width.requires_grad = True\n",
    "        optimizer = make_optimizer([beziers_coordinates_and_width])\n",
    "        \n",
    "        def make_beziers_batch_from_parameters():\n",
    "            return torch.cat([beziers_coordinates_and_width, beziers_batch.data[..., -1:]], dim=-1)\n",
    "        def constrain_parameters():\n",
    "            beziers_coordinates_and_width.data[..., -1].clamp_(min=min_width)\n",
    "            beziers_coordinates_and_width.data[..., 0].clamp_(min=0, max=w)\n",
    "            beziers_coordinates_and_width.data[..., 6].clamp_(min=0, max=w)\n",
    "            beziers_coordinates_and_width.data[..., 1].clamp_(min=0, max=h)\n",
    "            beziers_coordinates_and_width.data[..., 7].clamp_(min=0, max=h)\n",
    "    else:\n",
    "        beziers_coordinates = beziers_batch[..., :8].clone()\n",
    "        beziers_coordinates.requires_grad = True\n",
    "        optimizer = make_optimizer([beziers_coordinates])\n",
    "        \n",
    "        def make_beziers_batch_from_parameters():\n",
    "            return torch.cat([beziers_coordinates, beziers_batch.data[..., -2:]], dim=-1)\n",
    "        def constrain_parameters():\n",
    "            beziers_coordinates.data[..., 0].clamp_(min=0, max=w)\n",
    "            beziers_coordinates.data[..., 6].clamp_(min=0, max=w)\n",
    "            beziers_coordinates.data[..., 1].clamp_(min=0, max=h)\n",
    "            beziers_coordinates.data[..., 7].clamp_(min=0, max=h)"
   ]
  },
  {
   "cell_type": "markdown",
   "metadata": {},
   "source": [
    "#### Initialize plotting"
   ]
  },
  {
   "cell_type": "code",
   "execution_count": null,
   "metadata": {},
   "outputs": [],
   "source": [
    "iters_n = 10000\n",
    "plotting = True\n",
    "if len(beziers_batch) > 20:\n",
    "    plotting = False\n",
    "\n",
    "energies = np.full(iters_n, np.inf)\n",
    "if plotting:\n",
    "    ims = []\n",
    "    fig, axes = plt.subplots(1, 7, figsize=[4 * 7, 4 * len(beziers_batch)])\n",
    "    initial_pred_ax, initial_skeleton_ax, refined_ax, refined_skeleton_ax, rasterization_ax, gt_ax, dif_ax = axes\n",
    "    \n",
    "    initial_pred_ax.set_xlabel('Initial prediction', fontsize=12)\n",
    "    initial_skeleton_ax.set_xlabel('Initial skeleton', fontsize=12)\n",
    "    refined_ax.set_xlabel('Refined prediction', fontsize=12)\n",
    "    refined_skeleton_ax.set_xlabel('Refined skeleton', fontsize=12)\n",
    "    rasterization_ax.set_xlabel('Differentiable rasterization', fontsize=12)\n",
    "    gt_ax.set_xlabel('GT', fontsize=12)\n",
    "    dif_ax.set_xlabel('Difference', fontsize=12)\n",
    "    \n",
    "    for ax in axes:\n",
    "        ax.xaxis.set_label_position('top')\n",
    "        ax.get_xaxis().set_ticks([])\n",
    "        ax.get_yaxis().set_ticks([])    \n",
    "    fig.subplots_adjust(wspace=0, hspace=0)"
   ]
  },
  {
   "cell_type": "markdown",
   "metadata": {},
   "source": [
    "## Optimize"
   ]
  },
  {
   "cell_type": "code",
   "execution_count": null,
   "metadata": {},
   "outputs": [],
   "source": [
    "vector_rendering = render_beziers_pt(beziers_batch)\n",
    "if plotting:\n",
    "    im_gt = rasters_batch.cpu().numpy()\n",
    "    im_dif = im_gt - vector_rendering\n",
    "    im_initial_pred = vector_rendering\n",
    "    im_refined = im_initial_pred\n",
    "    im_initial_skeleton = render_beziers_skeleton(beziers_batch)\n",
    "    im_refined_skeleton = im_initial_skeleton\n",
    "    im_rasterization = renderer.render(beziers_batch.data, sigmoid_rate=sigmoid_rat).detach().cpu().numpy()\n",
    "    \n",
    "    initial_pred_plot = initial_pred_ax.imshow(np.vstack(im_initial_pred), vmin=0, vmax=1, cmap='gray_r')\n",
    "    refined_plot = refined_ax.imshow(np.vstack(im_refined), vmin=0, vmax=1, cmap='gray_r')\n",
    "    gt_plot = gt_ax.imshow(np.vstack(im_gt), vmin=0, vmax=1, cmap='gray_r')\n",
    "    dif_plot = dif_ax.imshow(np.vstack(im_dif), vmin=-1, vmax=1, cmap='gray_r')\n",
    "    initial_skeleton_plot = initial_skeleton_ax.imshow(np.vstack(im_initial_skeleton))\n",
    "    refined_skeleton_plot = refined_skeleton_ax.imshow(np.vstack(im_refined_skeleton))\n",
    "    rasterization_plot = rasterization_ax.imshow(np.vstack(im_rasterization), vmin=0, vmax=1, cmap='gray_r')\n",
    "\n",
    "\n",
    "its_time_to_stop = [False]\n",
    "def plotting_sigint(*args):\n",
    "    its_time_to_stop[0] = True\n",
    "    \n",
    "for i in tqdm(range(iters_n)):\n",
    "#for i in range(iters_n):\n",
    "    try:\n",
    "        beziers_batch = make_beziers_batch_from_parameters()\n",
    "        rasterizations_batch = renderer.render(beziers_batch, sigmoid_rate=sigmoid_rat)\n",
    "        loss = loss_function(rasterizations_batch, rasters_batch)\n",
    "        optimizer.zero_grad()\n",
    "        loss.backward()\n",
    "        optimizer.step()\n",
    "        constrain_parameters()\n",
    "        energies[i] = loss.item()\n",
    "    except KeyboardInterrupt:\n",
    "        its_time_to_stop[0] = True\n",
    "    # Prepare the results for logging\n",
    "    sigint = signal.signal(signal.SIGINT, plotting_sigint)\n",
    "    if (i % 1 == 0) or its_time_to_stop[0]:\n",
    "        vector_rendering[patches_to_optimize] = render_beziers_pt(beziers_batch[patches_to_optimize])\n",
    "        im = rasters_batch[patches_to_optimize].cpu().numpy() - vector_rendering[patches_to_optimize]\n",
    "        if plotting:\n",
    "            im_refined[patches_to_optimize] = vector_rendering[patches_to_optimize]\n",
    "            im_dif[patches_to_optimize] = im\n",
    "            im_refined_skeleton[patches_to_optimize] = render_beziers_skeleton(beziers_batch[patches_to_optimize])\n",
    "            im_rasterization[patches_to_optimize] = rasterizations_batch.detach().cpu().numpy()\n",
    "            refined_plot.set_array(np.vstack(im_refined))\n",
    "            dif_plot.set_array(np.vstack(im_dif))\n",
    "            refined_skeleton_plot.set_array(np.vstack(im_refined_skeleton))\n",
    "            rasterization_plot.set_array(np.vstack(im_rasterization))\n",
    "            clear_output(wait=True)\n",
    "            display(fig)\n",
    "            # Optionally, save the images for further export\n",
    "            ## ims.append([im_refined.copy(), im_dif.copy(), im_refined_skeleton.copy(), im_rasterization.copy()])\n",
    "    signal.signal(signal.SIGINT, sigint)\n",
    "    if its_time_to_stop[0]:\n",
    "        break"
   ]
  },
  {
   "cell_type": "raw",
   "metadata": {},
   "source": [
    "plt.plot(energies[5:])"
   ]
  },
  {
   "cell_type": "markdown",
   "metadata": {},
   "source": [
    "#### Export results"
   ]
  },
  {
   "cell_type": "raw",
   "metadata": {},
   "source": [
    "%matplotlib notebook\n",
    "\n",
    "import matplotlib.animation as animation\n",
    "\n",
    "fps = 30\n",
    "\n",
    "def animate_func(i):\n",
    "    im_refined, im_dif, im_refined_skeleton, im_rasterization = ims[i]\n",
    "    refined_plot.set_array(np.vstack(im_refined))\n",
    "    dif_plot.set_array(np.vstack(im_dif))\n",
    "    refined_skeleton_plot.set_array(np.vstack(im_refined_skeleton))\n",
    "    rasterization_plot.set_array(np.vstack(im_rasterization))\n",
    "    fig.subplots_adjust(left=0, bottom=0, right=1, top=1, wspace=None, hspace=None)\n",
    "    return [initial_pred_plot, initial_skeleton_plot, refined_plot, refined_skeleton_plot, rasterization_plot, gt_plot, dif_plot]\n",
    "\n",
    "anim = animation.FuncAnimation(fig, \n",
    "                               animate_func, \n",
    "                               frames = len(ims));\n",
    "\n",
    "anim.save('/tmp/test_anim.mp4', fps=fps, extra_args=['-vcodec', 'libx264'])\n",
    "\n",
    "%matplotlib inline"
   ]
  }
 ],
 "metadata": {
  "kernelspec": {
   "display_name": "Python 3",
   "language": "python",
   "name": "python3"
  },
  "language_info": {
   "codemirror_mode": {
    "name": "ipython",
    "version": 3
   },
   "file_extension": ".py",
   "mimetype": "text/x-python",
   "name": "python",
   "nbconvert_exporter": "python",
   "pygments_lexer": "ipython3",
   "version": "3.6.10"
  }
 },
 "nbformat": 4,
 "nbformat_minor": 4
}
