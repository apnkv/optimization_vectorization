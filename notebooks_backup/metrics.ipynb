{
 "cells": [
  {
   "cell_type": "code",
   "execution_count": 7,
   "metadata": {},
   "outputs": [],
   "source": [
    "%matplotlib inline\n",
    "%config InlineBackend.figure_format = 'retina'\n",
    "%reload_ext autoreload\n",
    "%autoreload 2\n",
    "\n",
    "import os\n",
    "import sys\n",
    "\n",
    "from PIL import Image\n",
    "import numpy as np\n",
    "\n",
    "sys.path.append('/home/apankov/dev.vectorization')\n",
    "from vectran.data.graphics.graphics import VectorImage\n",
    "from vectran.metrics.cvpr20.skeleton_metrics import cpch_distance, number_of_primitives\n",
    "from vectran.metrics.cvpr20.iou import iou_raster_reference, iou_vector_reference\n",
    "\n",
    "\n",
    "os.environ['CUDA_DEVICE_ORDER'] = 'PCI_BUS_ID'\n",
    "os.environ['CUDA_VISIBLE_DEVICES'] = '0'"
   ]
  },
  {
   "cell_type": "code",
   "execution_count": 8,
   "metadata": {},
   "outputs": [],
   "source": [
    "from vectran.data.graphics.graphics import VectorImage"
   ]
  },
  {
   "cell_type": "code",
   "execution_count": 9,
   "metadata": {},
   "outputs": [],
   "source": [
    "def read_vector_result(filepath, gt=None):\n",
    "    output_vector_image = VectorImage.from_svg(filepath).with_filled_removed()\n",
    "\n",
    "    output_vector_image.scale(gt.width / output_vector_image.width)\n",
    "    output_vector_image.width = gt.width.copy()\n",
    "    output_vector_image.height = gt.height.copy()\n",
    "    output_vector_image.view_width = gt.view_width.copy()\n",
    "    output_vector_image.view_height = gt.view_height.copy()\n",
    "\n",
    "    return output_vector_image"
   ]
  },
  {
   "cell_type": "code",
   "execution_count": 10,
   "metadata": {},
   "outputs": [
    {
     "data": {
      "text/plain": [
       "<vectran.data.graphics.graphics.VectorImage at 0x7f2dfc798860>"
      ]
     },
     "execution_count": 10,
     "metadata": {},
     "output_type": "execute_result"
    }
   ],
   "source": [
    "VectorImage.from_svg('/home/apankov/optimization_vectorization/inference/1_before.svg')"
   ]
  },
  {
   "cell_type": "code",
   "execution_count": 11,
   "metadata": {},
   "outputs": [
    {
     "data": {
      "text/plain": [
       "{'iou with predicted width': 0.662242355608439,\n",
       " 'iou with mean width': 0.6565894199928426,\n",
       " 'iou with fixed width': 0.2907237814094321,\n",
       " 'number of primitives in gt': 81,\n",
       " 'number of primitives in prediction': 562,\n",
       " 'Chamfer distance in pixels squared': 2698194.25,\n",
       " 'Mean mean minimal distance in pixels': 1.7331371307373047,\n",
       " 'Hausdorff distance in pixels': 45.209041595458984}"
      ]
     },
     "execution_count": 11,
     "metadata": {},
     "output_type": "execute_result"
    }
   ],
   "source": [
    "# with vector reference\n",
    "gt_filename = '/home/apankov/optimization_vectorization/datasets/test_sets/abc/00050000_99fd5beca7714bc586260b6a_step_000.svg'\n",
    "output_filename = '/home/apankov/optimization_vectorization/inference/1_before.svg'\n",
    "\n",
    "gt_vector_image = VectorImage.from_svg(gt_filename).with_filled_removed()\n",
    "output_vector_image = VectorImage.from_svg(output_filename).with_filled_removed()\n",
    "\n",
    "{'iou with predicted width': iou_vector_reference(output_vector_image, gt_vector_image, width=None),\n",
    " 'iou with mean width': iou_vector_reference(output_vector_image, gt_vector_image, width='mean'),\n",
    " 'iou with fixed width': iou_vector_reference(output_vector_image, gt_vector_image, width=1),\n",
    " 'number of primitives in gt': number_of_primitives(gt_vector_image),\n",
    " 'number of primitives in prediction': number_of_primitives(output_vector_image),\n",
    " **cpch_distance(output_vector_image, gt_vector_image)\n",
    "}"
   ]
  },
  {
   "cell_type": "code",
   "execution_count": 12,
   "metadata": {},
   "outputs": [
    {
     "data": {
      "text/plain": [
       "{'iou with predicted width': 0.949129852744716,\n",
       " 'iou with mean width': 0.9380710659903351,\n",
       " 'iou with fixed width': 0.6887902410968388,\n",
       " 'number of primitives in gt': 81,\n",
       " 'number of primitives in prediction': 844,\n",
       " 'Chamfer distance in pixels squared': 22212.9609375,\n",
       " 'Mean mean minimal distance in pixels': 0.2477671205997467,\n",
       " 'Hausdorff distance in pixels': 8.223867416381836}"
      ]
     },
     "execution_count": 12,
     "metadata": {},
     "output_type": "execute_result"
    }
   ],
   "source": [
    "gt_filename = '/home/apankov/optimization_vectorization/datasets/test_sets/abc/00050000_99fd5beca7714bc586260b6a_step_000.svg'\n",
    "output_filename = '/home/apankov/optimization_vectorization/inference/1_after.svg'\n",
    "\n",
    "gt_vector_image = VectorImage.from_svg(gt_filename).with_filled_removed()\n",
    "output_vector_image = VectorImage.from_svg(output_filename).with_filled_removed()\n",
    "\n",
    "{'iou with predicted width': iou_vector_reference(output_vector_image, gt_vector_image, width=None),\n",
    " 'iou with mean width': iou_vector_reference(output_vector_image, gt_vector_image, width='mean'),\n",
    " 'iou with fixed width': iou_vector_reference(output_vector_image, gt_vector_image, width=1),\n",
    " 'number of primitives in gt': number_of_primitives(gt_vector_image),\n",
    " 'number of primitives in prediction': number_of_primitives(output_vector_image),\n",
    " **cpch_distance(output_vector_image, gt_vector_image)\n",
    "}"
   ]
  },
  {
   "cell_type": "code",
   "execution_count": null,
   "metadata": {},
   "outputs": [],
   "source": []
  }
 ],
 "metadata": {
  "kernelspec": {
   "display_name": "Python 3",
   "language": "python",
   "name": "python3"
  },
  "language_info": {
   "codemirror_mode": {
    "name": "ipython",
    "version": 3
   },
   "file_extension": ".py",
   "mimetype": "text/x-python",
   "name": "python",
   "nbconvert_exporter": "python",
   "pygments_lexer": "ipython3",
   "version": "3.6.10"
  }
 },
 "nbformat": 4,
 "nbformat_minor": 4
}
