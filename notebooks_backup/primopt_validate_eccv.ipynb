{
 "cells": [
  {
   "cell_type": "code",
   "execution_count": 1,
   "metadata": {},
   "outputs": [
    {
     "data": {
      "application/javascript": [
       "Jupyter.keyboard_manager.command_shortcuts.add_shortcut('=,=', 'jupyter-notebook:restart-kernel-and-run-all-cells');\n",
       "Jupyter.keyboard_manager.command_shortcuts.add_shortcut('F2,F2', 'jupyter-notebook:restart-kernel');\n",
       "Jupyter.keyboard_manager.command_shortcuts.add_shortcut('F1,F1', 'jupyter-notebook:run-all-cells-above');\n"
      ],
      "text/plain": [
       "<IPython.core.display.Javascript object>"
      ]
     },
     "metadata": {},
     "output_type": "display_data"
    }
   ],
   "source": [
    "%%javascript\n",
    "Jupyter.keyboard_manager.command_shortcuts.add_shortcut('=,=', 'jupyter-notebook:restart-kernel-and-run-all-cells');\n",
    "Jupyter.keyboard_manager.command_shortcuts.add_shortcut('F2,F2', 'jupyter-notebook:restart-kernel');\n",
    "Jupyter.keyboard_manager.command_shortcuts.add_shortcut('F1,F1', 'jupyter-notebook:run-all-cells-above');"
   ]
  },
  {
   "cell_type": "code",
   "execution_count": 2,
   "metadata": {},
   "outputs": [],
   "source": [
    "from glob import glob\n",
    "import os\n",
    "import signal\n",
    "import sys\n",
    "\n",
    "from IPython.display import clear_output, display\n",
    "from PIL import Image\n",
    "import numpy as np\n",
    "from matplotlib import pyplot as plt\n",
    "import torch\n",
    "from tqdm import tqdm#_notebook\n",
    "\n",
    "floorplan_vectorization_path = '/home/apankov/dev.vectorization'\n",
    "sys.path.append(floorplan_vectorization_path)\n",
    "from vectran.optimization.primitives.line_tensor import LineTensor\n",
    "from vectran.optimization.primitives.quadratic_bezier_tensor import QuadraticBezierTensor\n",
    "from vectran.optimization.optimizer.adam import Adam\n",
    "\n",
    "from vectran.data.graphics.graphics import VectorImage\n",
    "from vectran.renderers.cairo import render\n",
    "\n",
    "os.environ['CUDA_DEVICE_ORDER'] = 'PCI_BUS_ID'\n",
    "os.environ['CUDA_VISIBLE_DEVICES'] = '1'\n",
    "\n",
    "dtype = torch.float32\n",
    "device = torch.device('cuda')\n",
    "monitoring = True"
   ]
  },
  {
   "cell_type": "code",
   "execution_count": 3,
   "metadata": {},
   "outputs": [],
   "source": [
    "patch_width = 64\n",
    "patch_height = 64"
   ]
  },
  {
   "cell_type": "markdown",
   "metadata": {},
   "source": [
    "## Load data"
   ]
  },
  {
   "cell_type": "code",
   "execution_count": 4,
   "metadata": {},
   "outputs": [],
   "source": [
    "filename = glob('/home/ovoinov/remotes/root.zhores/gpfs/data/gpfs0/3ddl/vectorization/datasets/svg_datasets/whole_images/abc/test/\\\n",
    "00050012*.svg')[0]\n",
    "vector_image = VectorImage.from_svg(filename)\n",
    "# Image.fromarray(vector_image.render(render))"
   ]
  },
  {
   "cell_type": "code",
   "execution_count": 5,
   "metadata": {},
   "outputs": [],
   "source": [
    "vector_patches = vector_image.split_to_patches([patch_width, patch_height])\n",
    "vector_patches = vector_patches[5:9, 3].ravel()\n",
    "raster_patches = [patch.render(render) for patch in vector_patches]\n",
    "patches_n = len(raster_patches)\n",
    "# Image.fromarray(np.vstack(raster_patches))"
   ]
  },
  {
   "cell_type": "markdown",
   "metadata": {},
   "source": [
    "## Optimize"
   ]
  },
  {
   "cell_type": "code",
   "execution_count": 6,
   "metadata": {},
   "outputs": [],
   "source": [
    "# primitive_type = 'lines'\n",
    "primitive_type = 'curves'\n",
    "primitives_n = 30\n",
    "\n",
    "if primitive_type == 'lines':\n",
    "    prim_ten = LineTensor(\n",
    "        np.random.rand(patches_n, 2, primitives_n) * [[patch_width], [patch_height]],\n",
    "        np.random.rand(patches_n, 2, primitives_n) * [[patch_width], [patch_height]],\n",
    "        np.random.rand(patches_n, 1, primitives_n) + 1,\n",
    "        dtype=dtype, device=device)\n",
    "elif primitive_type == 'curves':\n",
    "    prim_ten = QuadraticBezierTensor(\n",
    "        np.random.rand(patches_n, 2, primitives_n) * [[patch_width], [patch_height]],\n",
    "        np.random.rand(patches_n, 2, primitives_n) * [[patch_width], [patch_height]],\n",
    "        np.random.rand(patches_n, 2, primitives_n) * [[patch_width], [patch_height]],\n",
    "        np.random.rand(patches_n, 1, primitives_n) + 1,\n",
    "        dtype=dtype, device=device)\n",
    "    \n",
    "q_raster = 1 - torch.as_tensor(raster_patches).type(dtype) / 255\n",
    "\n",
    "aligner = Adam(prim_ten, q_raster, loglevel='error', lr=1)\n",
    "if monitoring:\n",
    "    fig = aligner.prepare_visualization(store_plots=True)\n",
    "plt.close()"
   ]
  },
  {
   "cell_type": "code",
   "execution_count": null,
   "metadata": {},
   "outputs": [],
   "source": [
    "iters_n = 100000\n",
    "draw_each = 10\n",
    "\n",
    "its_time_to_stop = [False]\n",
    "def plotting_sigint(*args):\n",
    "    its_time_to_stop[0] = True\n",
    "\n",
    "for i in tqdm(range(iters_n)):\n",
    "    try:\n",
    "        aligner.step(i, draw_visualization=(monitoring and ((i % draw_each) == 0)))\n",
    "    \n",
    "    except KeyboardInterrupt:\n",
    "        its_time_to_stop[0] = True\n",
    "    sigint = signal.signal(signal.SIGINT, plotting_sigint)\n",
    "    \n",
    "    if monitoring and ((i % draw_each) == 0):\n",
    "        clear_output(wait=True)\n",
    "        display(fig)\n",
    "    \n",
    "    signal.signal(signal.SIGINT, sigint)\n",
    "    if its_time_to_stop[0]:\n",
    "        break"
   ]
  },
  {
   "cell_type": "code",
   "execution_count": null,
   "metadata": {},
   "outputs": [],
   "source": [
    "assert False"
   ]
  },
  {
   "cell_type": "code",
   "execution_count": null,
   "metadata": {},
   "outputs": [],
   "source": [
    "aligner.save_plots('/home/ovoinov/Downloads/primopt_validate_eccv.30_curves.mp4', fps=10)"
   ]
  },
  {
   "cell_type": "code",
   "execution_count": null,
   "metadata": {},
   "outputs": [],
   "source": []
  }
 ],
 "metadata": {
  "kernelspec": {
   "display_name": "Python 3",
   "language": "python",
   "name": "python3"
  },
  "language_info": {
   "codemirror_mode": {
    "name": "ipython",
    "version": 3
   },
   "file_extension": ".py",
   "mimetype": "text/x-python",
   "name": "python",
   "nbconvert_exporter": "python",
   "pygments_lexer": "ipython3",
   "version": "3.6.10"
  }
 },
 "nbformat": 4,
 "nbformat_minor": 4
}
