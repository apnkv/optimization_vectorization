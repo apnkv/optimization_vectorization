{
 "cells": [
  {
   "cell_type": "code",
   "execution_count": 26,
   "metadata": {
    "pycharm": {
     "is_executing": false
    }
   },
   "outputs": [],
   "source": [
    "%config InlineBackend.figure_format='retina'\n",
    "%matplotlib inline\n",
    "%reload_ext autoreload\n",
    "%autoreload 2\n",
    "\n",
    "from contrib.differentiable_rendering.sigmoids_renderer.renderer import Renderer\n",
    "from utils import (\n",
    "    SyntheticPatch, LinePerturbationPipe, LineRandomShift, LineClip,\n",
    "    compute_pixel_coords, compute_pixel_density, get_pixel_coords_and_density, wrap_lines_into_numpy_batch,\n",
    "    torch_to_synthetic_lines\n",
    ")\n",
    "from optimize import optimize_line_batch\n",
    "\n",
    "from matplotlib import pyplot as plt\n",
    "import numpy as np\n",
    "import torch\n",
    "\n",
    "DEVICE = 'cuda' if torch.cuda.is_available() else 'cpu'"
   ]
  },
  {
   "cell_type": "code",
   "execution_count": 27,
   "metadata": {
    "pycharm": {
     "is_executing": false
    }
   },
   "outputs": [
    {
     "data": {
      "text/plain": [
       "True"
      ]
     },
     "execution_count": 27,
     "metadata": {},
     "output_type": "execute_result"
    }
   ],
   "source": [
    "import torch\n",
    "torch.cuda.is_available()"
   ]
  },
  {
   "cell_type": "code",
   "execution_count": null,
   "metadata": {
    "pycharm": {
     "is_executing": false
    }
   },
   "outputs": [],
   "source": []
  },
  {
   "cell_type": "code",
   "execution_count": null,
   "metadata": {
    "pycharm": {
     "is_executing": false
    }
   },
   "outputs": [
    {
     "name": "stdout",
     "output_type": "stream",
     "text": [
      "Yellow lines are perturbed/transported\n",
      "Gray background lines are ground truth\n"
     ]
    }
   ],
   "source": [
    "perturber = LinePerturbationPipe(\n",
    "    LineRandomShift((-6, 6), (0, 2), 4),\n",
    "    LineClip(0, 63, 0, 63)\n",
    ")\n",
    "\n",
    "renderer = Renderer((64, 64), dtype=torch.float32, device=DEVICE)\n",
    "\n",
    "print('Yellow lines are perturbed/transported')\n",
    "print('Gray background lines are ground truth')\n",
    "\n",
    "for random_seed in range(50):\n",
    "    generator = SyntheticPatch()\n",
    "    generator.random_lines(3, random_seed=random_seed)\n",
    "    \n",
    "    perturbed_lines = perturber.transform(generator.get_lines())\n",
    "    perturbed_batch = wrap_lines_into_numpy_batch(perturbed_lines)\n",
    "    image = np.array(generator.get_image(), dtype=np.float32) / 255\n",
    "    raster_coords, raster_masses = get_pixel_coords_and_density(image)\n",
    "    grads = []\n",
    "    optimized, steps = optimize_line_batch(torch.from_numpy(perturbed_batch).to(DEVICE),\n",
    "                                           raster_coords, raster_masses, return_batches_by_step=True, image=image,\n",
    "                                           lr=0.2, n_iters=300, coord_only_steps=250, width_lr=0.1, ot=1., mse=0.5, grads=grads)\n",
    "    optimized = optimized.detach().cpu()\n",
    "    \n",
    "    plt.figure(figsize=(12, 4))\n",
    "    plt.subplot(1, 3, 1)\n",
    "    plt.title('Before')\n",
    "    plt.imshow(generator.get_image(), cmap='gray', alpha=0.6)\n",
    "    plt.imshow(SyntheticPatch.from_lines(perturbed_lines).get_image(), alpha=0.6)\n",
    "    plt.subplot(1, 3, 2)\n",
    "    plt.title('After')\n",
    "    plt.imshow(generator.get_image(), cmap='gray', alpha=0.6)\n",
    "    plt.imshow(SyntheticPatch.from_lines(torch_to_synthetic_lines(optimized[0])).get_image(), alpha=0.6)\n",
    "    plt.subplot(1, 3, 3)\n",
    "    plt.title('L2 norm of all grads')\n",
    "    grad_norms = []\n",
    "    for grad in grads:\n",
    "        grad_norms.append(torch.sqrt((grad * grad).sum()))\n",
    "    plt.plot(grad_norms)\n",
    "    plt.show()\n",
    "    \n",
    "#     for i, step in enumerate(steps):\n",
    "#         plt.figure(figsize=(6, 6))\n",
    "#         plt.imshow(generator.get_image(), cmap='gray', alpha=0.6)\n",
    "#         plt.imshow(SyntheticPatch.from_lines(torch_to_synthetic_lines(step[0])).get_image(), alpha=0.6)\n",
    "#         plt.savefig(f'{random_seed}/{i}.png')\n",
    "#         plt.close()"
   ]
  },
  {
   "cell_type": "code",
   "execution_count": null,
   "metadata": {},
   "outputs": [],
   "source": []
  }
 ],
 "metadata": {
  "kernelspec": {
   "display_name": "Python 3",
   "language": "python",
   "name": "python3"
  },
  "language_info": {
   "codemirror_mode": {
    "name": "ipython",
    "version": 3
   },
   "file_extension": ".py",
   "mimetype": "text/x-python",
   "name": "python",
   "nbconvert_exporter": "python",
   "pygments_lexer": "ipython3",
   "version": "3.6.10"
  },
  "pycharm": {
   "stem_cell": {
    "cell_type": "raw",
    "metadata": {
     "collapsed": false
    },
    "source": []
   }
  }
 },
 "nbformat": 4,
 "nbformat_minor": 4
}
