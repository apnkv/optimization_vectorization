{
 "cells": [
  {
   "cell_type": "code",
   "execution_count": 1,
   "metadata": {},
   "outputs": [],
   "source": [
    "import numpy as np\n",
    "import torch\n",
    "import warnings\n",
    "from torch import nn, optim\n",
    "from torch.utils.data import DataLoader\n",
    "from tqdm import tqdm\n",
    "\n",
    "from contrib.differentiable_rendering.sigmoids_renderer.renderer import Renderer\n",
    "from contrib.handcrafted_data import syn_dataset\n",
    "from vectran.data.graphics_primitives import PrimitiveType\n",
    "\n",
    "from crossing_refiner import CrossingRefinerFull\n",
    "from utils import SyntheticPatch\n",
    "\n",
    "DEVICE = 'cuda:1'\n",
    "\n",
    "renderer = Renderer((64, 64), linecaps='butt', device=DEVICE, dtype=torch.float32)"
   ]
  },
  {
   "cell_type": "code",
   "execution_count": 2,
   "metadata": {},
   "outputs": [],
   "source": [
    "%matplotlib inline\n",
    "%config InlineBackend.figure_format = 'retina'\n",
    "%reload_ext autoreload\n",
    "%autoreload 2\n",
    "\n",
    "from matplotlib import pyplot as plt"
   ]
  },
  {
   "cell_type": "code",
   "execution_count": 3,
   "metadata": {},
   "outputs": [],
   "source": [
    "warnings.filterwarnings(\"ignore\")\n",
    "data_train = [syn_dataset[i] for i in range(100000)]\n",
    "data_val = [syn_dataset[i] for i in range(20000, 30240)]"
   ]
  },
  {
   "cell_type": "code",
   "execution_count": 4,
   "metadata": {},
   "outputs": [],
   "source": [
    "def make_crossing_rasters(data):\n",
    "    for i, sample in enumerate(data):\n",
    "        data[i]['raster'] = 1 - sample['raster']\n",
    "        vectors = sample['vector'][PrimitiveType.PT_LINE]\n",
    "        vectors = vectors[vectors.sum(axis=1) != 0]\n",
    "        vectors[:, 5] = 0.5\n",
    "        data[i]['crossing_raster'] = renderer.render(torch.from_numpy(vectors).to(DEVICE).unsqueeze(0))[0].detach().cpu().numpy()\n",
    "#         data[i]['crossing_raster'] = SyntheticPatch.from_lines(vectors, default_line_rgba=(1., 1., 1., 0.5)).get_image()\n",
    "#         data[i]['crossing_raster'] /= np.max(sample['crossing_raster'])\n",
    "        \n",
    "    return data\n",
    "\n",
    "data_train = make_crossing_rasters(data_train)\n",
    "data_val = make_crossing_rasters(data_val)"
   ]
  },
  {
   "cell_type": "code",
   "execution_count": 24,
   "metadata": {},
   "outputs": [
    {
     "name": "stderr",
     "output_type": "stream",
     "text": [
      "100%|██████████| 3125/3125 [00:59<00:00, 52.86it/s]\n",
      "100%|██████████| 320/320 [00:01<00:00, 206.95it/s]\n",
      "100%|██████████| 3125/3125 [00:57<00:00, 53.95it/s]\n",
      "100%|██████████| 320/320 [00:01<00:00, 205.59it/s]\n",
      "  0%|          | 6/3125 [00:00<01:00, 51.59it/s]"
     ]
    },
    {
     "name": "stdout",
     "output_type": "stream",
     "text": [
      "1 0.0014593397248972907\n"
     ]
    },
    {
     "name": "stderr",
     "output_type": "stream",
     "text": [
      "100%|██████████| 3125/3125 [01:00<00:00, 51.93it/s]\n",
      "100%|██████████| 320/320 [00:01<00:00, 207.29it/s]\n",
      "  0%|          | 5/3125 [00:00<01:02, 49.73it/s]"
     ]
    },
    {
     "name": "stdout",
     "output_type": "stream",
     "text": [
      "2 0.0013200151906858082\n"
     ]
    },
    {
     "name": "stderr",
     "output_type": "stream",
     "text": [
      "100%|██████████| 3125/3125 [00:59<00:00, 52.55it/s]\n",
      "100%|██████████| 320/320 [00:01<00:00, 205.41it/s]\n",
      "  0%|          | 5/3125 [00:00<01:04, 48.43it/s]"
     ]
    },
    {
     "name": "stdout",
     "output_type": "stream",
     "text": [
      "3 0.0012773856815329054\n"
     ]
    },
    {
     "name": "stderr",
     "output_type": "stream",
     "text": [
      "100%|██████████| 3125/3125 [00:59<00:00, 52.65it/s]\n",
      "100%|██████████| 320/320 [00:01<00:00, 208.37it/s]\n",
      "  0%|          | 6/3125 [00:00<00:59, 52.34it/s]"
     ]
    },
    {
     "name": "stdout",
     "output_type": "stream",
     "text": [
      "4 0.0012331413930951386\n"
     ]
    },
    {
     "name": "stderr",
     "output_type": "stream",
     "text": [
      "100%|██████████| 3125/3125 [00:58<00:00, 53.57it/s]\n",
      "100%|██████████| 320/320 [00:01<00:00, 209.59it/s]\n",
      "  0%|          | 5/3125 [00:00<01:02, 49.88it/s]"
     ]
    },
    {
     "name": "stdout",
     "output_type": "stream",
     "text": [
      "5 0.001200484157016035\n"
     ]
    },
    {
     "name": "stderr",
     "output_type": "stream",
     "text": [
      "100%|██████████| 3125/3125 [00:59<00:00, 52.11it/s]\n",
      "100%|██████████| 320/320 [00:01<00:00, 198.70it/s]\n",
      "  0%|          | 6/3125 [00:00<01:01, 51.00it/s]"
     ]
    },
    {
     "name": "stdout",
     "output_type": "stream",
     "text": [
      "6 0.0011992542695224984\n"
     ]
    },
    {
     "name": "stderr",
     "output_type": "stream",
     "text": [
      "100%|██████████| 3125/3125 [00:59<00:00, 52.70it/s]\n",
      "100%|██████████| 320/320 [00:01<00:00, 205.04it/s]\n",
      "  0%|          | 6/3125 [00:00<01:01, 50.98it/s]"
     ]
    },
    {
     "name": "stdout",
     "output_type": "stream",
     "text": [
      "7 0.001184547828961513\n"
     ]
    },
    {
     "name": "stderr",
     "output_type": "stream",
     "text": [
      "100%|██████████| 3125/3125 [00:59<00:00, 52.33it/s]\n",
      "100%|██████████| 320/320 [00:01<00:00, 204.12it/s]\n",
      "100%|██████████| 3125/3125 [00:58<00:00, 53.22it/s]\n",
      "100%|██████████| 320/320 [00:01<00:00, 205.09it/s]"
     ]
    },
    {
     "name": "stdout",
     "output_type": "stream",
     "text": [
      "9 0.0011544186916580656\n"
     ]
    },
    {
     "name": "stderr",
     "output_type": "stream",
     "text": [
      "\n"
     ]
    }
   ],
   "source": [
    "model = CrossingRefinerFull().to(DEVICE)\n",
    "model.train(True)\n",
    "criterion = torch.nn.BCEWithLogitsLoss().to(DEVICE)\n",
    "mse = torch.nn.MSELoss()\n",
    "optimizer = optim.Adam(model.parameters(), lr=0.001)\n",
    "\n",
    "dataloader_train = DataLoader(data_train, 32, True)\n",
    "dataloader_val = DataLoader(data_val, 32, False)\n",
    "\n",
    "best_val_loss = None\n",
    "best_weights = None\n",
    "\n",
    "for epoch in range(10):\n",
    "    model.train(True)\n",
    "    \n",
    "    for batch in tqdm(dataloader_train):\n",
    "        raster = batch['raster'].unsqueeze(dim=1).float().to(DEVICE)\n",
    "        crossing_raster = batch['crossing_raster'].unsqueeze(dim=1).float().to(DEVICE)\n",
    "\n",
    "        pred = model.forward(raster)\n",
    "        addition = pred\n",
    "        addition = addition / addition.max(dim=3, keepdim=True).values.max(dim=2, keepdim=True).values\n",
    "        output = (0.5 * addition + 0.5 * raster) * (raster > 0)\n",
    "        \n",
    "        loss = mse(output, crossing_raster)\n",
    "\n",
    "        optimizer.zero_grad()\n",
    "        loss.backward()\n",
    "        optimizer.step()\n",
    "        \n",
    "    model.train(False)\n",
    "        \n",
    "    avg_val_loss = 0.\n",
    "    n_batches = 0\n",
    "    \n",
    "    for batch in tqdm(dataloader_val):\n",
    "        raster = batch['raster'].unsqueeze(dim=1).float().to(DEVICE)\n",
    "        crossing_raster = batch['crossing_raster'].unsqueeze(dim=1).float().to(DEVICE)\n",
    "\n",
    "        pred = model.forward(raster)\n",
    "        addition = pred\n",
    "        addition = addition / addition.max(dim=3, keepdim=True).values.max(dim=2, keepdim=True).values\n",
    "        output = (0.5 * addition + 0.5 * raster) * (raster > 0)\n",
    "        \n",
    "        loss = mse(output, crossing_raster)\n",
    "        \n",
    "        avg_val_loss += loss.item()\n",
    "        n_batches += 1\n",
    "    \n",
    "    avg_val_loss /= n_batches\n",
    "    best_val_loss = best_val_loss or avg_val_loss\n",
    "    if avg_val_loss < best_val_loss:\n",
    "        best_val_loss = avg_val_loss\n",
    "        print(epoch, best_val_loss)\n",
    "        torch.save(model.state_dict(), 'best_crossings_mult.pt')"
   ]
  },
  {
   "cell_type": "code",
   "execution_count": 39,
   "metadata": {},
   "outputs": [
    {
     "data": {
      "text/plain": [
       "<matplotlib.image.AxesImage at 0x7f642ef2bef0>"
      ]
     },
     "execution_count": 39,
     "metadata": {},
     "output_type": "execute_result"
    },
    {
     "data": {
      "image/png": "[encoded data removed]",
      "text/plain": [
       "<Figure size 432x288 with 1 Axes>"
      ]
     },
     "metadata": {
      "image/png": {
       "height": 250,
       "width": 251
      },
      "needs_background": "light"
     },
     "output_type": "display_data"
    }
   ],
   "source": [
    "pred = model.forward(raster)\n",
    "addition = pred\n",
    "addition = addition / addition.max(dim=3, keepdim=True).values.max(dim=2, keepdim=True).values\n",
    "output = (0.5 * addition + 0.5 * raster) * (raster > 0)\n",
    "\n",
    "plt.imshow(output[25][0].detach().cpu().numpy())"
   ]
  },
  {
   "cell_type": "code",
   "execution_count": 15,
   "metadata": {},
   "outputs": [
    {
     "data": {
      "text/plain": [
       "tensor([0.0000, 0.0000, 0.0000, 0.0000, 0.0000, 0.0000, 0.0000, 0.0000, 0.0000,\n",
       "        0.2488, 0.6371, 0.5155, 0.3922, 0.1000, 0.0000, 0.0000, 0.0000, 0.0902,\n",
       "        0.4588, 0.5000, 0.0667, 0.0000, 0.0000, 0.0000, 0.0000, 0.0000, 0.3823,\n",
       "        0.6375, 0.2490, 0.0000, 0.0000, 0.0000, 0.0000, 0.0000, 0.0000, 0.0000,\n",
       "        0.0000, 0.0000, 0.0000, 0.0000, 0.0000, 0.0000, 0.0000, 0.0000, 0.0000,\n",
       "        0.0000, 0.0000, 0.0000, 0.0000, 0.0000, 0.0000, 0.0000, 0.0000, 0.0000,\n",
       "        0.0000, 0.0000, 0.0000, 0.0000, 0.0000, 0.0000, 0.0000, 0.0000, 0.0000,\n",
       "        0.0000], device='cuda:1', grad_fn=<SelectBackward>)"
      ]
     },
     "execution_count": 15,
     "metadata": {},
     "output_type": "execute_result"
    }
   ],
   "source": [
    "output[0][0][0]"
   ]
  },
  {
   "cell_type": "code",
   "execution_count": 16,
   "metadata": {},
   "outputs": [
    {
     "data": {
      "text/plain": [
       "array([[0.5, 0.5, 0.5, ..., 0.5, 0.5, 0.5],\n",
       "       [0.5, 0.5, 0.5, ..., 0.5, 0.5, 0.5],\n",
       "       [0.5, 0.5, 0.5, ..., 0.5, 0.5, 0.5],\n",
       "       ...,\n",
       "       [0.5, 0.5, 0.5, ..., 0.5, 0.5, 0.5],\n",
       "       [0.5, 0.5, 0.5, ..., 0.5, 0.5, 0.5],\n",
       "       [0.5, 0.5, 0.5, ..., 0.5, 0.5, 0.5]], dtype=float32)"
      ]
     },
     "execution_count": 16,
     "metadata": {},
     "output_type": "execute_result"
    }
   ],
   "source": [
    "output[20][0].detach().cpu().numpy()"
   ]
  },
  {
   "cell_type": "code",
   "execution_count": 53,
   "metadata": {},
   "outputs": [],
   "source": [
    "img = torch.sigmoid(model.forward(raster) * raster)[24][0].detach().cpu().numpy()\n",
    "img -= 0.5\n",
    "img /= img.max()"
   ]
  },
  {
   "cell_type": "code",
   "execution_count": 54,
   "metadata": {},
   "outputs": [
    {
     "data": {
      "text/plain": [
       "<matplotlib.image.AxesImage at 0x7f4f7666d2e8>"
      ]
     },
     "execution_count": 54,
     "metadata": {},
     "output_type": "execute_result"
    },
    {
     "data": {
      "image/png": "[encoded data removed]",
      "text/plain": [
       "<Figure size 432x288 with 1 Axes>"
      ]
     },
     "metadata": {
      "image/png": {
       "height": 250,
       "width": 251
      },
      "needs_background": "light"
     },
     "output_type": "display_data"
    }
   ],
   "source": [
    "plt.imshow(img)"
   ]
  },
  {
   "cell_type": "code",
   "execution_count": 55,
   "metadata": {},
   "outputs": [
    {
     "data": {
      "text/plain": [
       "array([[0.02889483, 0.        , 0.        , ..., 0.        , 0.        ,\n",
       "        0.        ],\n",
       "       [0.3326199 , 0.32334614, 0.        , ..., 0.        , 0.        ,\n",
       "        0.        ],\n",
       "       [0.18118736, 0.35992953, 0.36316365, ..., 0.        , 0.        ,\n",
       "        0.        ],\n",
       "       ...,\n",
       "       [0.        , 0.        , 0.        , ..., 0.        , 0.        ,\n",
       "        0.        ],\n",
       "       [0.        , 0.        , 0.        , ..., 0.        , 0.        ,\n",
       "        0.        ],\n",
       "       [0.        , 0.        , 0.        , ..., 0.        , 0.        ,\n",
       "        0.        ]], dtype=float32)"
      ]
     },
     "execution_count": 55,
     "metadata": {},
     "output_type": "execute_result"
    }
   ],
   "source": [
    "img"
   ]
  },
  {
   "cell_type": "code",
   "execution_count": null,
   "metadata": {},
   "outputs": [],
   "source": []
  }
 ],
 "metadata": {
  "kernelspec": {
   "display_name": "Python 3",
   "language": "python",
   "name": "python3"
  },
  "language_info": {
   "codemirror_mode": {
    "name": "ipython",
    "version": 3
   },
   "file_extension": ".py",
   "mimetype": "text/x-python",
   "name": "python",
   "nbconvert_exporter": "python",
   "pygments_lexer": "ipython3",
   "version": "3.6.10"
  }
 },
 "nbformat": 4,
 "nbformat_minor": 4
}
