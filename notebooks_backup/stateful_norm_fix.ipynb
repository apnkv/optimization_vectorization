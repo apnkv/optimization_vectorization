{
 "cells": [
  {
   "cell_type": "code",
   "execution_count": 6,
   "metadata": {},
   "outputs": [],
   "source": [
    "%matplotlib inline\n",
    "%config InlineBackend.figure_format = 'retina'\n",
    "%reload_ext autoreload\n",
    "%autoreload 2\n",
    "\n",
    "import warnings\n",
    "\n",
    "from contrib.handcrafted_data import syn_dataset\n",
    "from utils import (\n",
    "    SyntheticPatch, LinePerturbationPipe, LineRandomShift, LineClip,\n",
    "    wrap_lines_into_numpy_batch, torch_to_synthetic_lines\n",
    ")\n",
    "from stateful_optimizer import (\n",
    "    StatefulAligner, \n",
    "    LossComposition, \n",
    "    init_ot_aligner,\n",
    "    make_default_loss_fn,\n",
    "    make_default_optimize_fn,\n",
    "    store_render_difference,\n",
    "    store_transport_plan,\n",
    "    strip_confidence_grads,\n",
    "    save_best_batch\n",
    ")\n",
    "from crossing_refiner import CrossingRefinerFull\n",
    "\n",
    "from matplotlib import pyplot as plt\n",
    "plt.rc('animation', html='html5')\n",
    "import matplotlib.animation as animation\n",
    "from IPython.display import HTML\n",
    "from geomloss import SamplesLoss\n",
    "from torch import optim\n",
    "from torch.utils.data import DataLoader\n",
    "from tqdm import tqdm\n",
    "from vectran.data.graphics_primitives import PrimitiveType\n",
    "import numpy as np\n",
    "import torch\n",
    "\n",
    "torch.manual_seed(4)\n",
    "np.random.seed(4)\n",
    "\n",
    "DEVICE = 'cuda' if torch.cuda.is_available() else 'cpu'"
   ]
  },
  {
   "cell_type": "markdown",
   "metadata": {},
   "source": [
    "## Train a neural network for crossings inference"
   ]
  },
  {
   "cell_type": "code",
   "execution_count": null,
   "metadata": {},
   "outputs": [],
   "source": [
    "warnings.filterwarnings(\"ignore\")\n",
    "data_train = [syn_dataset[i] for i in range(50000)]\n",
    "data_val = [syn_dataset[i] for i in range(20000, 30240)]"
   ]
  },
  {
   "cell_type": "code",
   "execution_count": null,
   "metadata": {},
   "outputs": [],
   "source": [
    "def make_crossing_rasters(data):\n",
    "    for i, sample in enumerate(data):\n",
    "        data[i]['raster'] = 1 - sample['raster']\n",
    "        vectors = sample['vector'][PrimitiveType.PT_LINE]\n",
    "        vectors = vectors[vectors.sum(axis=1) != 0][:, :5]\n",
    "        data[i]['crossing_raster'] = SyntheticPatch.from_lines(vectors, default_line_rgba=(1., 1., 1., 0.5)).get_image()\n",
    "        data[i]['crossing_raster'] /= np.max(sample['crossing_raster'])\n",
    "        \n",
    "    return data\n",
    "\n",
    "data_train = make_crossing_rasters(data_train)\n",
    "data_val = make_crossing_rasters(data_val)"
   ]
  },
  {
   "cell_type": "code",
   "execution_count": null,
   "metadata": {},
   "outputs": [],
   "source": [
    "model = CrossingRefinerFull().to(DEVICE)\n",
    "model.train(True)\n",
    "criterion = torch.nn.BCEWithLogitsLoss(pos_weight=torch.Tensor([3.0]).to(DEVICE))\n",
    "mse = torch.nn.MSELoss()\n",
    "optimizer = optim.Adam(model.parameters(), lr=0.001)\n",
    "\n",
    "dataloader_train = DataLoader(data_train, 32, True)\n",
    "dataloader_val = DataLoader(data_val, 32, False)\n",
    "\n",
    "best_val_loss = None\n",
    "best_weights = None\n",
    "\n",
    "for epoch in range(50):\n",
    "    model.train(True)\n",
    "    \n",
    "    for batch in tqdm(dataloader_train):\n",
    "        raster = batch['raster'].unsqueeze(dim=1).float().to(DEVICE)\n",
    "        crossing_raster = batch['crossing_raster'].unsqueeze(dim=1).float().to(DEVICE)\n",
    "\n",
    "        pred = model.forward(raster)\n",
    "        loss = criterion(pred, crossing_raster) + 0.1 * mse(pred, crossing_raster)\n",
    "\n",
    "        optimizer.zero_grad()\n",
    "        loss.backward()\n",
    "        optimizer.step()\n",
    "        \n",
    "    model.train(False)\n",
    "        \n",
    "    avg_val_loss = 0.\n",
    "    n_batches = 0\n",
    "    \n",
    "    for batch in tqdm(dataloader_val):\n",
    "        raster = batch['raster'].unsqueeze(dim=1).float().to(DEVICE)\n",
    "        crossing_raster = batch['crossing_raster'].unsqueeze(dim=1).float().to(DEVICE)\n",
    "\n",
    "        pred = model.forward(raster)\n",
    "        loss = criterion(pred, crossing_raster) + 0.1 * mse(pred, crossing_raster)\n",
    "        \n",
    "        avg_val_loss += loss.item()\n",
    "        n_batches += 1\n",
    "    \n",
    "    avg_val_loss /= n_batches\n",
    "    best_val_loss = best_val_loss or avg_val_loss\n",
    "    if avg_val_loss < best_val_loss:\n",
    "        best_val_loss = avg_val_loss\n",
    "        print(epoch, best_val_loss)\n",
    "        torch.save(model.state_dict(), 'best_crossings.pt')"
   ]
  },
  {
   "cell_type": "code",
   "execution_count": 7,
   "metadata": {},
   "outputs": [],
   "source": [
    "model = CrossingRefinerFull().to(DEVICE)\n",
    "model.load_state_dict(torch.load('best_crossings.pt'))\n",
    "_ = model.train(False)"
   ]
  },
  {
   "cell_type": "code",
   "execution_count": 8,
   "metadata": {},
   "outputs": [
    {
     "data": {
      "text/plain": [
       "CrossingRefinerFull(\n",
       "  (downscaling_branch): CrossingRefiner(\n",
       "    (conv1): Sequential(\n",
       "      (0): Conv2d(1, 8, kernel_size=(3, 3), stride=(1, 1), padding=(1, 1))\n",
       "      (1): BatchNorm2d(8, eps=1e-05, momentum=0.1, affine=True, track_running_stats=True)\n",
       "      (2): ReLU(inplace=True)\n",
       "    )\n",
       "    (conv2): Sequential(\n",
       "      (0): Conv2d(8, 16, kernel_size=(3, 3), stride=(1, 1), padding=(1, 1))\n",
       "      (1): BatchNorm2d(16, eps=1e-05, momentum=0.1, affine=True, track_running_stats=True)\n",
       "      (2): ReLU(inplace=True)\n",
       "    )\n",
       "    (conv3): Sequential(\n",
       "      (0): Conv2d(16, 32, kernel_size=(3, 3), stride=(1, 1), padding=(1, 1))\n",
       "      (1): BatchNorm2d(32, eps=1e-05, momentum=0.1, affine=True, track_running_stats=True)\n",
       "      (2): ReLU(inplace=True)\n",
       "    )\n",
       "    (upconv1): Sequential(\n",
       "      (0): Upsample(scale_factor=2.0, mode=bilinear)\n",
       "      (1): Sequential(\n",
       "        (0): Conv2d(32, 16, kernel_size=(3, 3), stride=(1, 1), padding=(1, 1))\n",
       "        (1): BatchNorm2d(16, eps=1e-05, momentum=0.1, affine=True, track_running_stats=True)\n",
       "        (2): ReLU(inplace=True)\n",
       "      )\n",
       "    )\n",
       "    (upconv2): Sequential(\n",
       "      (0): Upsample(scale_factor=2.0, mode=bilinear)\n",
       "      (1): Sequential(\n",
       "        (0): Conv2d(32, 8, kernel_size=(3, 3), stride=(1, 1), padding=(1, 1))\n",
       "        (1): BatchNorm2d(8, eps=1e-05, momentum=0.1, affine=True, track_running_stats=True)\n",
       "        (2): ReLU(inplace=True)\n",
       "      )\n",
       "    )\n",
       "    (upconv3): Sequential(\n",
       "      (0): Upsample(scale_factor=2.0, mode=bilinear)\n",
       "      (1): Sequential(\n",
       "        (0): Conv2d(16, 4, kernel_size=(3, 3), stride=(1, 1), padding=(1, 1))\n",
       "        (1): BatchNorm2d(4, eps=1e-05, momentum=0.1, affine=True, track_running_stats=True)\n",
       "        (2): ReLU(inplace=True)\n",
       "      )\n",
       "    )\n",
       "    (maxpool): MaxPool2d(kernel_size=2, stride=2, padding=0, dilation=1, ceil_mode=False)\n",
       "  )\n",
       "  (conv1): Sequential(\n",
       "    (0): Conv2d(1, 4, kernel_size=(5, 5), stride=(1, 1), padding=(2, 2))\n",
       "    (1): BatchNorm2d(4, eps=1e-05, momentum=0.1, affine=True, track_running_stats=True)\n",
       "    (2): ReLU(inplace=True)\n",
       "  )\n",
       "  (conv2): Sequential(\n",
       "    (0): Conv2d(4, 8, kernel_size=(5, 5), stride=(1, 1), padding=(2, 2))\n",
       "    (1): BatchNorm2d(8, eps=1e-05, momentum=0.1, affine=True, track_running_stats=True)\n",
       "    (2): ReLU(inplace=True)\n",
       "  )\n",
       "  (conv3): Sequential(\n",
       "    (0): Conv2d(8, 8, kernel_size=(5, 5), stride=(1, 1), padding=(2, 2))\n",
       "    (1): BatchNorm2d(8, eps=1e-05, momentum=0.1, affine=True, track_running_stats=True)\n",
       "    (2): ReLU(inplace=True)\n",
       "  )\n",
       "  (conv4): Sequential(\n",
       "    (0): Conv2d(8, 8, kernel_size=(5, 5), stride=(1, 1), padding=(2, 2))\n",
       "    (1): BatchNorm2d(8, eps=1e-05, momentum=0.1, affine=True, track_running_stats=True)\n",
       "    (2): ReLU(inplace=True)\n",
       "  )\n",
       "  (conv5): Sequential(\n",
       "    (0): Conv2d(8, 4, kernel_size=(5, 5), stride=(1, 1), padding=(2, 2))\n",
       "    (1): BatchNorm2d(4, eps=1e-05, momentum=0.1, affine=True, track_running_stats=True)\n",
       "    (2): ReLU(inplace=True)\n",
       "  )\n",
       "  (conv6): Sequential(\n",
       "    (0): Conv2d(8, 1, kernel_size=(5, 5), stride=(1, 1), padding=(2, 2))\n",
       "    (1): BatchNorm2d(1, eps=1e-05, momentum=0.1, affine=True, track_running_stats=True)\n",
       "    (2): ReLU(inplace=True)\n",
       "  )\n",
       ")"
      ]
     },
     "execution_count": 8,
     "metadata": {},
     "output_type": "execute_result"
    }
   ],
   "source": [
    "model"
   ]
  },
  {
   "cell_type": "markdown",
   "metadata": {},
   "source": [
    "## Try the new aligner"
   ]
  },
  {
   "cell_type": "code",
   "execution_count": 9,
   "metadata": {},
   "outputs": [],
   "source": [
    "def make_animation(image, renders):\n",
    "    fig = plt.figure()\n",
    "    ims = []\n",
    "    for i in range(len(renders)):\n",
    "        background = plt.imshow(image, animated=True, alpha=0.6, cmap='gray')\n",
    "        im = plt.imshow(renders[i], animated=True, alpha=0.6)\n",
    "        ims.append([background, im])\n",
    "\n",
    "    ani = animation.ArtistAnimation(fig, ims, interval=50, blit=True,\n",
    "                                    repeat_delay=1000)\n",
    "    \n",
    "    return ani"
   ]
  },
  {
   "cell_type": "code",
   "execution_count": 10,
   "metadata": {},
   "outputs": [
    {
     "name": "stdout",
     "output_type": "stream",
     "text": [
      "0\n"
     ]
    },
    {
     "data": {
      "image/png": "[encoded data removed]",
      "text/plain": [
       "<Figure size 1080x360 with 3 Axes>"
      ]
     },
     "metadata": {
      "image/png": {
       "height": 292,
       "width": 871
      },
      "needs_background": "light"
     },
     "output_type": "display_data"
    },
    {
     "data": {
      "image/png": "[encoded data removed]",
      "text/plain": [
       "<Figure size 432x288 with 1 Axes>"
      ]
     },
     "metadata": {
      "image/png": {
       "height": 250,
       "width": 251
      },
      "needs_background": "light"
     },
     "output_type": "display_data"
    }
   ],
   "source": [
    "np.random.seed(4)\n",
    "# np.random.seed(41)\n",
    "\n",
    "\n",
    "def transform_synthetic_sample(sample):\n",
    "    vectors = sample['vector'][PrimitiveType.PT_LINE]\n",
    "    vectors = vectors[vectors.sum(axis=1) != 0][:, :5]\n",
    "\n",
    "    perturbed_lines = perturber.transform(vectors)\n",
    "    perturbed_batch = wrap_lines_into_numpy_batch(perturbed_lines)\n",
    "    perturbed_batch = torch.from_numpy(perturbed_batch).to(DEVICE)\n",
    "    \n",
    "    return {\n",
    "        'line_batch': perturbed_batch,\n",
    "        'image': 1 - sample['raster']\n",
    "    }\n",
    "\n",
    "def accumulate_renders(state):\n",
    "    if 'renders' not in state:\n",
    "        state['renders'] = []\n",
    "    state['renders'].append(state['render'].detach().cpu().numpy())\n",
    "\n",
    "\n",
    "perturber = LinePerturbationPipe(\n",
    "    LineRandomShift((-6, 6), (0, 1)),\n",
    "#     LineClip(0, 63, 0, 63)  # IMPORTANT\n",
    ")\n",
    "\n",
    "\n",
    "def not_too_thin(state):\n",
    "    return torch.sum(torch.relu(1. - state['current_line_batch'][:, :, 4]))\n",
    "\n",
    "\n",
    "def bound_coordinates(padding=8.):\n",
    "    def fn(state):\n",
    "        line_batch = state['current_line_batch']\n",
    "        return torch.sum(torch.relu(line_batch[:, :, :4] - 64. - padding)) + torch.sum(torch.relu(-padding - line_batch[:, :, :4]))\n",
    "    return fn\n",
    "\n",
    "\n",
    "def similar_total_mass(state):\n",
    "    return torch.abs(2 * torch.sum(state['render']) - torch.sum(state['raster']))\n",
    "\n",
    "\n",
    "def mae(weight):\n",
    "    l1_loss = torch.nn.L1Loss()\n",
    "    def fn(state):\n",
    "        return weight * l1_loss(state['raster'], state['render'])\n",
    "    \n",
    "    return fn\n",
    "\n",
    "\n",
    "def mse(weight):\n",
    "    l2_loss = torch.nn.MSELoss()\n",
    "    def fn(state):\n",
    "        return weight * l2_loss(state['raster'], state['render'])\n",
    "    \n",
    "    return fn\n",
    "\n",
    "\n",
    "def compose(*fns):\n",
    "    def composition(state):\n",
    "        for fn in fns:\n",
    "            fn(state)\n",
    "            \n",
    "    return composition\n",
    "\n",
    "\n",
    "def coords_only_grads(n_steps=200):\n",
    "    def fn(state):\n",
    "        strip_confidence_grads(state)\n",
    "        if state['current_step'] < n_steps:\n",
    "            state['current_line_batch'].grad.data[:, :, 4] = 0.\n",
    "    return fn\n",
    "\n",
    "\n",
    "def reduced_width_lr(multiplier=0.2):\n",
    "    def fn(state):\n",
    "        strip_confidence_grads(state)\n",
    "        state['current_line_batch'].grad.data[:, :, 4] *= multiplier\n",
    "    return fn\n",
    "\n",
    "\n",
    "htmls = []\n",
    "n_steps = 400\n",
    "\n",
    "loss = LossComposition()\n",
    "loss.add(make_default_loss_fn(bce_schedule=(lambda state: 0.0 if state['current_step'] < n_steps - 200 else 1.0)))\n",
    "loss.add(not_too_thin)\n",
    "# loss.add(mse(1.0))\n",
    "# loss.add(similar_total_mass)\n",
    "# loss.add(bound_coordinates(8.))\n",
    "\n",
    "aligner = None\n",
    "\n",
    "for random_seed in range(1):\n",
    "    print(random_seed)\n",
    "    sample = transform_synthetic_sample(syn_dataset[random_seed])\n",
    "    image = sample['image']\n",
    "    # Uncomment the following two lines to use neural crossing inference\n",
    "    image = torch.from_numpy(image).unsqueeze(dim=0).unsqueeze(dim=1)\n",
    "    image = model.forward(image.to(DEVICE)).detach().cpu().numpy()[0][0]\n",
    "    \n",
    "    image /= image.max()\n",
    "    \n",
    "    line_batch = sample['line_batch']\n",
    "    \n",
    "    aligner = StatefulAligner(line_batch, image)\n",
    "    \n",
    "    grad_transformer = compose(coords_only_grads(n_steps - 200), reduced_width_lr(0.2))\n",
    "    init_ot_aligner(aligner, loss_fn=loss,\n",
    "                    optimize_fn=make_default_optimize_fn(\n",
    "                        aligner, \n",
    "                        lr=0.2, \n",
    "                        transform_grads=grad_transformer,\n",
    "                        base_optimizer=optim.Adam\n",
    "                    ))\n",
    "    \n",
    "    ot_loss = SamplesLoss(\"sinkhorn\", p=2, blur=.05, potentials=True, debias=False)\n",
    "#     aligner.add_callback(store_transport_plan(ot_loss))\n",
    "    \n",
    "    aligner.add_callback(store_render_difference)\n",
    "    aligner.add_callback(save_best_batch)\n",
    "    aligner.add_callback(accumulate_renders)\n",
    "    \n",
    "    for _ in range(n_steps):\n",
    "        aligner.step()\n",
    "        \n",
    "    raster = aligner.state['raster'].detach().cpu().numpy()\n",
    "    \n",
    "    plt.figure(figsize=(15, 5))\n",
    "    plt.subplot(1, 3, 1)\n",
    "    plt.imshow(raster, alpha=0.6, cmap='gray')\n",
    "    initial = SyntheticPatch.from_lines(torch_to_synthetic_lines(aligner.state['initial_line_batch'][0].detach().cpu())).get_image()\n",
    "    plt.imshow(initial, alpha=0.6)\n",
    "    plt.subplot(1, 3, 2)\n",
    "    plt.title('Diff between render and optimized lines')\n",
    "    plt.imshow(np.abs(aligner.state['difference'].detach().cpu().numpy()), cmap='gray')\n",
    "    plt.subplot(1, 3, 3)\n",
    "    plt.imshow(raster, alpha=0.6, cmap='gray')\n",
    "    plt.imshow(aligner.state['render'].detach().cpu().numpy(), alpha=0.6)\n",
    "    plt.show()\n",
    "    \n",
    "    anim = make_animation(raster, aligner.state['renders'])\n",
    "    htmls.append(HTML(anim.to_html5_video()))"
   ]
  },
  {
   "cell_type": "code",
   "execution_count": 38,
   "metadata": {},
   "outputs": [
    {
     "name": "stdout",
     "output_type": "stream",
     "text": [
      "(64, 64)\n"
     ]
    },
    {
     "data": {
      "image/png": "[encoded data removed]",
      "text/plain": [
       "<Figure size 432x432 with 1 Axes>"
      ]
     },
     "metadata": {
      "image/png": {
       "height": 358,
       "width": 360
      },
      "needs_background": "light"
     },
     "output_type": "display_data"
    }
   ],
   "source": [
    "np.random.seed(4)\n",
    "\n",
    "sample = transform_synthetic_sample(syn_dataset[0])\n",
    "image = sample['image']\n",
    "image = aligner.state['render'].detach().cpu().numpy()\n",
    "# Uncomment the following two lines to use neural crossing inference\n",
    "image = torch.from_numpy(image).unsqueeze(dim=0).unsqueeze(dim=1)\n",
    "image = model.apply_convolutions(image.to(DEVICE), 2).detach().cpu().numpy()[0][4]\n",
    "\n",
    "print(image.shape)\n",
    "\n",
    "image /= image.max()\n",
    "plt.figure(figsize=(6, 6))\n",
    "plt.imshow(image, cmap='gray')\n",
    "plt.show()"
   ]
  },
  {
   "cell_type": "code",
   "execution_count": null,
   "metadata": {},
   "outputs": [],
   "source": [
    "plt.figure(figsize=(6, 6))\n",
    "plt.imshow(aligner.state['raster'].detach().cpu().numpy())\n",
    "plt.show()"
   ]
  },
  {
   "cell_type": "code",
   "execution_count": null,
   "metadata": {},
   "outputs": [],
   "source": [
    "vc = aligner.state['vector_coords']\n",
    "rc = aligner.state['raster_coords']\n",
    "\n",
    "# vc = vc[:, 0] * 64 + vc[:, 1]\n",
    "# rc = rc[:, 0] * 64 + rc[:, 1]\n",
    "\n",
    "# vec_idx = vc[aligner.state['transport_plan'].nonzero().T[0]]\n",
    "# rst_idx = rc[aligner.state['transport_plan'].nonzero().T[1]]\n",
    "\n",
    "# transport_plan = aligner.state['transport_plan'].view(-1)"
   ]
  },
  {
   "cell_type": "code",
   "execution_count": null,
   "metadata": {},
   "outputs": [],
   "source": [
    "transport_plan = aligner.state['transport_plan']\n",
    "\n",
    "plt.figure(figsize=(8, 8))\n",
    "plt.xlim(0, 64)\n",
    "plt.ylim(0, 64)\n",
    "\n",
    "max_transported = transport_plan.max().item()\n",
    "\n",
    "for coords in transport_plan.nonzero():\n",
    "    i = coords[0].item()\n",
    "    j = coords[1].item()\n",
    "    \n",
    "    start = vc[i].detach().cpu().numpy()\n",
    "    end = rc[j].detach().cpu().numpy()\n",
    "    weight = transport_plan[i][j]\n",
    "    \n",
    "    plt.plot([start[0], end[0]], [start[1], end[1]], color='C0')\n",
    "    \n",
    "plt.show()"
   ]
  },
  {
   "cell_type": "code",
   "execution_count": null,
   "metadata": {},
   "outputs": [],
   "source": [
    "htmls[0]"
   ]
  },
  {
   "cell_type": "code",
   "execution_count": null,
   "metadata": {},
   "outputs": [],
   "source": [
    "htmls[1]"
   ]
  },
  {
   "cell_type": "code",
   "execution_count": null,
   "metadata": {},
   "outputs": [],
   "source": [
    "htmls[2]"
   ]
  },
  {
   "cell_type": "code",
   "execution_count": null,
   "metadata": {},
   "outputs": [],
   "source": [
    "htmls[3]"
   ]
  },
  {
   "cell_type": "code",
   "execution_count": null,
   "metadata": {},
   "outputs": [],
   "source": [
    "htmls[4]"
   ]
  },
  {
   "cell_type": "code",
   "execution_count": null,
   "metadata": {},
   "outputs": [],
   "source": [
    "htmls[5]"
   ]
  },
  {
   "cell_type": "code",
   "execution_count": null,
   "metadata": {},
   "outputs": [],
   "source": [
    "htmls[6]"
   ]
  },
  {
   "cell_type": "code",
   "execution_count": null,
   "metadata": {},
   "outputs": [],
   "source": [
    "htmls[7]"
   ]
  },
  {
   "cell_type": "code",
   "execution_count": null,
   "metadata": {},
   "outputs": [],
   "source": [
    "htmls[8]"
   ]
  },
  {
   "cell_type": "code",
   "execution_count": null,
   "metadata": {},
   "outputs": [],
   "source": [
    "htmls[9]"
   ]
  },
  {
   "cell_type": "code",
   "execution_count": null,
   "metadata": {},
   "outputs": [],
   "source": [
    "htmls[10]"
   ]
  },
  {
   "cell_type": "code",
   "execution_count": null,
   "metadata": {},
   "outputs": [],
   "source": [
    "htmls[11]"
   ]
  },
  {
   "cell_type": "code",
   "execution_count": null,
   "metadata": {},
   "outputs": [],
   "source": [
    "htmls[12]"
   ]
  },
  {
   "cell_type": "code",
   "execution_count": null,
   "metadata": {},
   "outputs": [],
   "source": [
    "htmls[13]"
   ]
  },
  {
   "cell_type": "code",
   "execution_count": null,
   "metadata": {},
   "outputs": [],
   "source": [
    "htmls[14]"
   ]
  },
  {
   "cell_type": "code",
   "execution_count": null,
   "metadata": {},
   "outputs": [],
   "source": [
    "htmls[15]"
   ]
  },
  {
   "cell_type": "code",
   "execution_count": null,
   "metadata": {},
   "outputs": [],
   "source": [
    "htmls[16]"
   ]
  },
  {
   "cell_type": "code",
   "execution_count": null,
   "metadata": {},
   "outputs": [],
   "source": [
    "htmls[17]"
   ]
  },
  {
   "cell_type": "code",
   "execution_count": null,
   "metadata": {},
   "outputs": [],
   "source": [
    "htmls[18]"
   ]
  },
  {
   "cell_type": "code",
   "execution_count": null,
   "metadata": {},
   "outputs": [],
   "source": [
    "htmls[19]"
   ]
  },
  {
   "cell_type": "code",
   "execution_count": null,
   "metadata": {},
   "outputs": [],
   "source": [
    "htmls[20]"
   ]
  },
  {
   "cell_type": "code",
   "execution_count": null,
   "metadata": {},
   "outputs": [],
   "source": [
    "htmls[21]"
   ]
  },
  {
   "cell_type": "code",
   "execution_count": null,
   "metadata": {},
   "outputs": [],
   "source": [
    "htmls[22]"
   ]
  },
  {
   "cell_type": "code",
   "execution_count": null,
   "metadata": {},
   "outputs": [],
   "source": [
    "htmls[23]"
   ]
  },
  {
   "cell_type": "code",
   "execution_count": null,
   "metadata": {},
   "outputs": [],
   "source": [
    "htmls[24]"
   ]
  },
  {
   "cell_type": "code",
   "execution_count": null,
   "metadata": {},
   "outputs": [],
   "source": [
    "htmls[25]"
   ]
  },
  {
   "cell_type": "code",
   "execution_count": null,
   "metadata": {},
   "outputs": [],
   "source": [
    "htmls[26]"
   ]
  },
  {
   "cell_type": "code",
   "execution_count": null,
   "metadata": {},
   "outputs": [],
   "source": [
    "htmls[27]"
   ]
  },
  {
   "cell_type": "code",
   "execution_count": null,
   "metadata": {},
   "outputs": [],
   "source": [
    "htmls[28]"
   ]
  },
  {
   "cell_type": "code",
   "execution_count": null,
   "metadata": {},
   "outputs": [],
   "source": [
    "htmls[29]"
   ]
  },
  {
   "cell_type": "code",
   "execution_count": null,
   "metadata": {},
   "outputs": [],
   "source": []
  }
 ],
 "metadata": {
  "kernelspec": {
   "display_name": "Python 3",
   "language": "python",
   "name": "python3"
  },
  "language_info": {
   "codemirror_mode": {
    "name": "ipython",
    "version": 3
   },
   "file_extension": ".py",
   "mimetype": "text/x-python",
   "name": "python",
   "nbconvert_exporter": "python",
   "pygments_lexer": "ipython3",
   "version": "3.6.10"
  }
 },
 "nbformat": 4,
 "nbformat_minor": 4
}
