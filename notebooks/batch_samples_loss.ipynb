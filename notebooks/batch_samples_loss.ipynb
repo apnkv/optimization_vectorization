{
 "cells": [
  {
   "cell_type": "code",
   "execution_count": 4,
   "metadata": {},
   "outputs": [],
   "source": [
    "%matplotlib inline\n",
    "%config InlineBackend.figure_format = 'retina'\n",
    "%reload_ext autoreload\n",
    "%autoreload 2\n",
    "\n",
    "import numpy as np\n",
    "import torch\n",
    "from geomloss import SamplesLoss\n",
    "from matplotlib import pyplot as plt\n",
    "from torch.utils.data import DataLoader\n",
    "from tqdm import tqdm\n",
    "from vectran.data.graphics_primitives import PrimitiveType\n",
    "\n",
    "from vecopt.contrib.differentiable_rendering.sigmoids_renderer.renderer import Renderer\n",
    "from vecopt.contrib.handcrafted_data import syn_dataset\n",
    "from vecopt.data_utils import LinePerturbationPipe, LineBatchRandomShift\n",
    "\n",
    "DEVICE = 'cuda:1'"
   ]
  },
  {
   "cell_type": "code",
   "execution_count": 5,
   "metadata": {},
   "outputs": [],
   "source": [
    "renderer = Renderer((64, 64), linecaps='butt', device=DEVICE, dtype=torch.float32)"
   ]
  },
  {
   "cell_type": "code",
   "execution_count": 6,
   "metadata": {},
   "outputs": [
    {
     "data": {
      "text/plain": "<Figure size 432x432 with 1 Axes>",
      "image/png": "[encoded data removed]"
     },
     "metadata": {
      "image/png": {
       "width": 360,
       "height": 358
      },
      "needs_background": "light"
     },
     "output_type": "display_data"
    }
   ],
   "source": [
    "np.random.seed(4)\n",
    "\n",
    "image_batch = np.zeros((3, 64, 64))\n",
    "for i in range(3):\n",
    "    image_batch[i] = 1 - syn_dataset[i]['raster']\n",
    "image = image_batch[0]\n",
    "\n",
    "plt.figure(figsize=(6, 6))\n",
    "plt.imshow(image)\n",
    "plt.show()"
   ]
  },
  {
   "cell_type": "code",
   "execution_count": 7,
   "metadata": {},
   "outputs": [],
   "source": [
    "def get_pixel_coords_and_density_batch(images):\n",
    "    batch_size = images.shape[0]\n",
    "    device = images.device\n",
    "\n",
    "    nonzero_mask = images > 1e-6\n",
    "    nonzero_coords = torch.nonzero(nonzero_mask)\n",
    "    render_n = nonzero_coords[:, 0]\n",
    "    rc = nonzero_coords[:, 1:].type(torch.float32)\n",
    "        \n",
    "    n_nonzero_coords = nonzero_mask.sum(axis=(1, 2))\n",
    "    n_coords = n_nonzero_coords.max().item()\n",
    "    \n",
    "    indices = torch.zeros(n_nonzero_coords.sum().item(), dtype=torch.int64, device=device)\n",
    "    last = 0\n",
    "    for elem in n_nonzero_coords:\n",
    "        idx_range = torch.arange(elem.item(), device=device)\n",
    "        length = idx_range.shape[0]\n",
    "        indices[last:(last + length)] = idx_range\n",
    "        last += length\n",
    "\n",
    "    coords = torch.zeros(batch_size, n_coords, 2, dtype=torch.float32, device=device)\n",
    "    coords[render_n, indices] = rc\n",
    "    \n",
    "    density = torch.zeros(batch_size, n_coords, dtype=torch.float32, device=device)\n",
    "    density[render_n, indices] = images[nonzero_mask]\n",
    "        \n",
    "    return {\n",
    "        'nonzero_coords': n_nonzero_coords,\n",
    "        'coords': coords.to(DEVICE),\n",
    "        'density': density.to(DEVICE)\n",
    "    }"
   ]
  },
  {
   "cell_type": "code",
   "execution_count": 45,
   "metadata": {},
   "outputs": [
    {
     "name": "stderr",
     "output_type": "stream",
     "text": [
      "100%|██████████| 300/300 [03:12<00:00,  1.56it/s]\n"
     ]
    }
   ],
   "source": [
    "np.random.seed(4)\n",
    "loader = DataLoader(syn_dataset, batch_size=32)\n",
    "\n",
    "perturber = LinePerturbationPipe(\n",
    "    LineBatchRandomShift((-6, 6), (0, 1)),\n",
    ")\n",
    "\n",
    "n_steps = 300\n",
    "\n",
    "loss = SamplesLoss('sinkhorn', reach=6., scaling=.6)\n",
    "\n",
    "for batch in loader:\n",
    "    rasters = 1. - batch['raster'].to(DEVICE)\n",
    "    rasters_ot = get_pixel_coords_and_density_batch(rasters)\n",
    "    \n",
    "    rasters_ot_coords = rasters_ot['coords'].to(DEVICE)\n",
    "    rasters_ot_density = rasters_ot['density'].to(DEVICE)\n",
    "    \n",
    "    vectors = batch['vector'][PrimitiveType.PT_LINE]\n",
    "#     vectors = vectors[:, vectors.sum(dim=(0, 2)) != 0, :]\n",
    "    \n",
    "    perturbed_lines = perturber.transform(vectors).type(torch.float32).to(DEVICE)\n",
    "    perturbed_lines.requires_grad_()\n",
    "    \n",
    "    optimizer = torch.optim.Adam((perturbed_lines, ), lr=0.25)\n",
    "    for step in tqdm(range(n_steps)):\n",
    "        optimizer.zero_grad()\n",
    "        \n",
    "        current_renders = renderer.render(perturbed_lines)\n",
    "        render_ot = get_pixel_coords_and_density_batch(current_renders)\n",
    "        \n",
    "        losses = loss(render_ot['density'], render_ot['coords'], rasters_ot_density, rasters_ot_coords)\n",
    "        losses.sum().backward()\n",
    "        \n",
    "        perturbed_lines.grad[:, :, 5] = 0.\n",
    "        if step < n_steps - 100:\n",
    "            perturbed_lines.grad[:, :, 4] = 0.\n",
    "        \n",
    "        optimizer.step()\n",
    "    \n",
    "    break"
   ]
  },
  {
   "cell_type": "code",
   "execution_count": null,
   "metadata": {},
   "outputs": [],
   "source": []
  },
  {
   "cell_type": "code",
   "execution_count": 46,
   "metadata": {},
   "outputs": [],
   "source": [
    "r = renderer.render(perturbed_lines.to(DEVICE))"
   ]
  },
  {
   "cell_type": "code",
   "execution_count": 61,
   "metadata": {},
   "outputs": [
    {
     "data": {
      "text/plain": [
       "<matplotlib.image.AxesImage at 0x7f99884cd9e8>"
      ]
     },
     "execution_count": 61,
     "metadata": {},
     "output_type": "execute_result"
    },
    {
     "data": {
      "image/png": "[encoded data removed]",
      "text/plain": [
       "<Figure size 432x288 with 1 Axes>"
      ]
     },
     "metadata": {
      "image/png": {
       "height": 250,
       "width": 251
      },
      "needs_background": "light"
     },
     "output_type": "display_data"
    }
   ],
   "source": [
    "plt.imshow(r[14].detach().cpu().numpy())"
   ]
  },
  {
   "cell_type": "code",
   "execution_count": 11,
   "metadata": {},
   "outputs": [
    {
     "data": {
      "text/plain": [
       "tensor([0.9999, 1.0000, 1.0000,  ..., 1.0000, 1.0000, 1.0000], device='cuda:1',\n",
       "       grad_fn=<IndexBackward>)"
      ]
     },
     "execution_count": 11,
     "metadata": {},
     "output_type": "execute_result"
    }
   ],
   "source": [
    "current_renders[current_renders > 1e-6]"
   ]
  },
  {
   "cell_type": "code",
   "execution_count": null,
   "metadata": {},
   "outputs": [],
   "source": []
  }
 ],
 "metadata": {
  "kernelspec": {
   "display_name": "Python 3",
   "language": "python",
   "name": "python3"
  },
  "language_info": {
   "codemirror_mode": {
    "name": "ipython",
    "version": 3
   },
   "file_extension": ".py",
   "mimetype": "text/x-python",
   "name": "python",
   "nbconvert_exporter": "python",
   "pygments_lexer": "ipython3",
   "version": "3.6.10"
  }
 },
 "nbformat": 4,
 "nbformat_minor": 4
}