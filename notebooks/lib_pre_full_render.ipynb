{
 "cells": [
  {
   "cell_type": "code",
   "execution_count": 1,
   "metadata": {},
   "outputs": [],
   "source": [
    "%matplotlib inline\n",
    "%config InlineBackend.figure_format = 'retina'\n",
    "%reload_ext autoreload\n",
    "%autoreload 2\n",
    "\n",
    "import glob\n",
    "import pickle\n",
    "import os\n",
    "import time\n",
    "from collections import deque, namedtuple\n",
    "from concurrent.futures import ThreadPoolExecutor, wait\n",
    "\n",
    "import torch\n",
    "from matplotlib import pyplot as plt\n",
    "from geomloss import SamplesLoss\n",
    "from torch import optim\n",
    "from vectran.renderers.cairo import render as cairo_render\n",
    "from vectran.util.evaluation_utils import vector_image_from_patches\n",
    "\n",
    "from vecopt.aligner import (\n",
    "    StatefulBatchAligner,\n",
    "    init_ot_aligner,\n",
    "    make_default_loss_fn,\n",
    "    make_default_optimize_fn,\n",
    ")\n",
    "from vecopt.aligner_utils import (\n",
    "    LossComposition, store_render_difference, \n",
    "    perceptual_bce, strip_confidence_grads, \n",
    "    compose, coords_only_grads\n",
    ")\n",
    "from vecopt.crossing_model import CrossingRefinerFull\n",
    "from vecopt.inference import IntermediateOutputAligner"
   ]
  },
  {
   "cell_type": "code",
   "execution_count": 3,
   "metadata": {},
   "outputs": [],
   "source": [
    "IntermediateSample = namedtuple('IntermediateSample', ['worker_idx', 'sample', 'filename'])\n",
    "n_workers = 4\n",
    "\n",
    "data = deque()\n",
    "\n",
    "data_folder = '/home/apankov/vecopt_datasets/results/abc/our_curves/intermediate_output'\n",
    "worker_idx = -1\n",
    "for filename in glob.glob(os.path.join(data_folder, '*')):\n",
    "    path = os.path.join(data_folder, filename)\n",
    "    with open(path, 'rb') as handle:\n",
    "        sample = pickle.load(handle)\n",
    "        \n",
    "    worker_idx = (worker_idx + 1) % n_workers\n",
    "    \n",
    "    data.append(IntermediateSample(worker_idx, sample, filename))\n",
    "    \n",
    "def make_aligner(device, n_steps):\n",
    "    crossing_model = CrossingRefinerFull().to(device)\n",
    "    crossing_model.load_state_dict(torch.load('../vecopt/weights/best_crossings_mult.pt'))\n",
    "    _ = crossing_model.train(False)\n",
    "\n",
    "    loss = LossComposition()\n",
    "    ot_loss = SamplesLoss(\"sinkhorn\", p=2, blur=.01, scaling=.5, reach=5.)\n",
    "    loss.add(make_default_loss_fn(\n",
    "        bce_schedule=(lambda state: 0.0),\n",
    "        ot_loss=ot_loss\n",
    "    ))\n",
    "    loss.add(perceptual_bce(crossing_model, 3))\n",
    "    loss.add(perceptual_bce(crossing_model, 4))\n",
    "\n",
    "    grad_transformer = compose(strip_confidence_grads, coords_only_grads(n_steps - 150))\n",
    "\n",
    "    aligner = StatefulBatchAligner(device=device)\n",
    "    init_ot_aligner(aligner, loss_fn=loss, device=device,\n",
    "                    optimize_fn=make_default_optimize_fn(\n",
    "                        aligner, \n",
    "                        lr=0.25, \n",
    "                        transform_grads=grad_transformer,\n",
    "                        base_optimizer=optim.Adam,\n",
    "                    ))\n",
    "\n",
    "    aligner.add_callback(store_render_difference)\n",
    "    \n",
    "    return aligner\n",
    "    \n",
    "\n",
    "n_steps = 10\n",
    "    \n",
    "    \n",
    "class Worker:\n",
    "    def __init__(self, data, gpu_idx):\n",
    "        self.gpu_idx = gpu_idx\n",
    "        self.data = data\n",
    "        \n",
    "        crossing_model = CrossingRefinerFull().to(f'cuda:{gpu_idx}')\n",
    "        crossing_model.load_state_dict(torch.load('../vecopt/weights/best_crossings_mult.pt'))\n",
    "        _ = crossing_model.train(False)\n",
    "        aligner = make_aligner(f'cuda:{gpu_idx}', n_steps)\n",
    "        self.worker = (IntermediateOutputAligner(aligner, n_steps=n_steps, crossing_model=crossing_model))\n",
    "    \n",
    "    def __call__(self):\n",
    "        results = []\n",
    "        \n",
    "        while self.data:\n",
    "            try:\n",
    "                sample = self.data.popleft()\n",
    "                print(sample.filename)\n",
    "                results.append((self.worker(sample.sample), sample.filename))\n",
    "            except IndexError:\n",
    "                pass\n",
    "            \n",
    "        return results"
   ]
  },
  {
   "cell_type": "code",
   "execution_count": 4,
   "metadata": {},
   "outputs": [],
   "source": [
    "workers = [\n",
    "    Worker(data, 0),\n",
    "    Worker(data, 1),\n",
    "    Worker(data, 2),\n",
    "    Worker(data, 3)\n",
    "]"
   ]
  },
  {
   "cell_type": "code",
   "execution_count": 5,
   "metadata": {},
   "outputs": [
    {
     "ename": "KeyboardInterrupt",
     "evalue": "",
     "output_type": "error",
     "traceback": [
      "\u001b[0;31m---------------------------------------------------------------------------\u001b[0m",
      "\u001b[0;31mKeyboardInterrupt\u001b[0m                         Traceback (most recent call last)",
      "\u001b[0;32m<ipython-input-5-09c225cbeae1>\u001b[0m in \u001b[0;36m<module>\u001b[0;34m\u001b[0m\n\u001b[1;32m      7\u001b[0m     \u001b[0mjobs\u001b[0m\u001b[0;34m.\u001b[0m\u001b[0mappend\u001b[0m\u001b[0;34m(\u001b[0m\u001b[0mexecutor\u001b[0m\u001b[0;34m.\u001b[0m\u001b[0msubmit\u001b[0m\u001b[0;34m(\u001b[0m\u001b[0mworker\u001b[0m\u001b[0;34m)\u001b[0m\u001b[0;34m)\u001b[0m\u001b[0;34m\u001b[0m\u001b[0;34m\u001b[0m\u001b[0m\n\u001b[1;32m      8\u001b[0m \u001b[0;34m\u001b[0m\u001b[0m\n\u001b[0;32m----> 9\u001b[0;31m \u001b[0mwait\u001b[0m\u001b[0;34m(\u001b[0m\u001b[0mjobs\u001b[0m\u001b[0;34m)\u001b[0m\u001b[0;34m\u001b[0m\u001b[0;34m\u001b[0m\u001b[0m\n\u001b[0m\u001b[1;32m     10\u001b[0m \u001b[0;34m\u001b[0m\u001b[0m\n\u001b[1;32m     11\u001b[0m \u001b[0mend\u001b[0m \u001b[0;34m=\u001b[0m \u001b[0mtime\u001b[0m\u001b[0;34m.\u001b[0m\u001b[0mtime\u001b[0m\u001b[0;34m(\u001b[0m\u001b[0;34m)\u001b[0m\u001b[0;34m\u001b[0m\u001b[0;34m\u001b[0m\u001b[0m\n",
      "\u001b[0;32m~/miniconda3/envs/apankov/lib/python3.6/concurrent/futures/_base.py\u001b[0m in \u001b[0;36mwait\u001b[0;34m(fs, timeout, return_when)\u001b[0m\n\u001b[1;32m    299\u001b[0m         \u001b[0mwaiter\u001b[0m \u001b[0;34m=\u001b[0m \u001b[0m_create_and_install_waiters\u001b[0m\u001b[0;34m(\u001b[0m\u001b[0mfs\u001b[0m\u001b[0;34m,\u001b[0m \u001b[0mreturn_when\u001b[0m\u001b[0;34m)\u001b[0m\u001b[0;34m\u001b[0m\u001b[0;34m\u001b[0m\u001b[0m\n\u001b[1;32m    300\u001b[0m \u001b[0;34m\u001b[0m\u001b[0m\n\u001b[0;32m--> 301\u001b[0;31m     \u001b[0mwaiter\u001b[0m\u001b[0;34m.\u001b[0m\u001b[0mevent\u001b[0m\u001b[0;34m.\u001b[0m\u001b[0mwait\u001b[0m\u001b[0;34m(\u001b[0m\u001b[0mtimeout\u001b[0m\u001b[0;34m)\u001b[0m\u001b[0;34m\u001b[0m\u001b[0;34m\u001b[0m\u001b[0m\n\u001b[0m\u001b[1;32m    302\u001b[0m     \u001b[0;32mfor\u001b[0m \u001b[0mf\u001b[0m \u001b[0;32min\u001b[0m \u001b[0mfs\u001b[0m\u001b[0;34m:\u001b[0m\u001b[0;34m\u001b[0m\u001b[0;34m\u001b[0m\u001b[0m\n\u001b[1;32m    303\u001b[0m         \u001b[0;32mwith\u001b[0m \u001b[0mf\u001b[0m\u001b[0;34m.\u001b[0m\u001b[0m_condition\u001b[0m\u001b[0;34m:\u001b[0m\u001b[0;34m\u001b[0m\u001b[0;34m\u001b[0m\u001b[0m\n",
      "\u001b[0;32m~/miniconda3/envs/apankov/lib/python3.6/threading.py\u001b[0m in \u001b[0;36mwait\u001b[0;34m(self, timeout)\u001b[0m\n\u001b[1;32m    549\u001b[0m             \u001b[0msignaled\u001b[0m \u001b[0;34m=\u001b[0m \u001b[0mself\u001b[0m\u001b[0;34m.\u001b[0m\u001b[0m_flag\u001b[0m\u001b[0;34m\u001b[0m\u001b[0;34m\u001b[0m\u001b[0m\n\u001b[1;32m    550\u001b[0m             \u001b[0;32mif\u001b[0m \u001b[0;32mnot\u001b[0m \u001b[0msignaled\u001b[0m\u001b[0;34m:\u001b[0m\u001b[0;34m\u001b[0m\u001b[0;34m\u001b[0m\u001b[0m\n\u001b[0;32m--> 551\u001b[0;31m                 \u001b[0msignaled\u001b[0m \u001b[0;34m=\u001b[0m \u001b[0mself\u001b[0m\u001b[0;34m.\u001b[0m\u001b[0m_cond\u001b[0m\u001b[0;34m.\u001b[0m\u001b[0mwait\u001b[0m\u001b[0;34m(\u001b[0m\u001b[0mtimeout\u001b[0m\u001b[0;34m)\u001b[0m\u001b[0;34m\u001b[0m\u001b[0;34m\u001b[0m\u001b[0m\n\u001b[0m\u001b[1;32m    552\u001b[0m             \u001b[0;32mreturn\u001b[0m \u001b[0msignaled\u001b[0m\u001b[0;34m\u001b[0m\u001b[0;34m\u001b[0m\u001b[0m\n\u001b[1;32m    553\u001b[0m \u001b[0;34m\u001b[0m\u001b[0m\n",
      "\u001b[0;32m~/miniconda3/envs/apankov/lib/python3.6/threading.py\u001b[0m in \u001b[0;36mwait\u001b[0;34m(self, timeout)\u001b[0m\n\u001b[1;32m    293\u001b[0m         \u001b[0;32mtry\u001b[0m\u001b[0;34m:\u001b[0m    \u001b[0;31m# restore state no matter what (e.g., KeyboardInterrupt)\u001b[0m\u001b[0;34m\u001b[0m\u001b[0;34m\u001b[0m\u001b[0m\n\u001b[1;32m    294\u001b[0m             \u001b[0;32mif\u001b[0m \u001b[0mtimeout\u001b[0m \u001b[0;32mis\u001b[0m \u001b[0;32mNone\u001b[0m\u001b[0;34m:\u001b[0m\u001b[0;34m\u001b[0m\u001b[0;34m\u001b[0m\u001b[0m\n\u001b[0;32m--> 295\u001b[0;31m                 \u001b[0mwaiter\u001b[0m\u001b[0;34m.\u001b[0m\u001b[0macquire\u001b[0m\u001b[0;34m(\u001b[0m\u001b[0;34m)\u001b[0m\u001b[0;34m\u001b[0m\u001b[0;34m\u001b[0m\u001b[0m\n\u001b[0m\u001b[1;32m    296\u001b[0m                 \u001b[0mgotit\u001b[0m \u001b[0;34m=\u001b[0m \u001b[0;32mTrue\u001b[0m\u001b[0;34m\u001b[0m\u001b[0;34m\u001b[0m\u001b[0m\n\u001b[1;32m    297\u001b[0m             \u001b[0;32melse\u001b[0m\u001b[0;34m:\u001b[0m\u001b[0;34m\u001b[0m\u001b[0;34m\u001b[0m\u001b[0m\n",
      "\u001b[0;31mKeyboardInterrupt\u001b[0m: "
     ]
    }
   ],
   "source": [
    "executor = ThreadPoolExecutor(max_workers=1)\n",
    "\n",
    "start = time.time()\n",
    "\n",
    "jobs = []\n",
    "for worker in workers:\n",
    "    jobs.append(executor.submit(worker))\n",
    "    \n",
    "wait(jobs)\n",
    "    \n",
    "end = time.time()"
   ]
  },
  {
   "cell_type": "code",
   "execution_count": null,
   "metadata": {},
   "outputs": [],
   "source": [
    "print(end - start)"
   ]
  },
  {
   "cell_type": "code",
   "execution_count": 6,
   "metadata": {},
   "outputs": [],
   "source": [
    "config = {\n",
    "    'crossing_model_weights': '../vecopt/weights/best_crossings_mult.pt',\n",
    "    'ot_loss': {\n",
    "        'p': 2,\n",
    "        'blur': 0.01,\n",
    "        'scaling': 0.5,\n",
    "        'reach': 5.0,\n",
    "    },\n",
    "    'perceptual_bce': [3, 4],\n",
    "    'n_steps': 500,\n",
    "    'coord_only_grads': 350,\n",
    "    'batch_size': 64,\n",
    "    'infer_crossings': True,\n",
    "}"
   ]
  },
  {
   "cell_type": "code",
   "execution_count": 7,
   "metadata": {},
   "outputs": [],
   "source": [
    "import json"
   ]
  },
  {
   "cell_type": "code",
   "execution_count": 8,
   "metadata": {},
   "outputs": [
    {
     "data": {
      "text/plain": [
       "'{\"crossing_model_weights\": \"../vecopt/weights/best_crossings_mult.pt\", \"ot_loss\": {\"p\": 2, \"blur\": 0.01, \"scaling\": 0.5, \"reach\": 5.0}, \"perceptual_bce\": [3, 4], \"n_steps\": 500, \"coord_only_grads\": 350, \"batch_size\": 64, \"infer_crossings\": true}'"
      ]
     },
     "execution_count": 8,
     "metadata": {},
     "output_type": "execute_result"
    }
   ],
   "source": [
    "json.dumps(config)"
   ]
  },
  {
   "cell_type": "code",
   "execution_count": null,
   "metadata": {},
   "outputs": [],
   "source": []
  }
 ],
 "metadata": {
  "kernelspec": {
   "display_name": "Python 3",
   "language": "python",
   "name": "python3"
  },
  "language_info": {
   "codemirror_mode": {
    "name": "ipython",
    "version": 3
   },
   "file_extension": ".py",
   "mimetype": "text/x-python",
   "name": "python",
   "nbconvert_exporter": "python",
   "pygments_lexer": "ipython3",
   "version": "3.6.10"
  }
 },
 "nbformat": 4,
 "nbformat_minor": 4
}
